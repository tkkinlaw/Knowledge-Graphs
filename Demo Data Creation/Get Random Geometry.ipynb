{
 "cells": [
  {
   "cell_type": "code",
   "execution_count": null,
   "metadata": {},
   "outputs": [],
   "source": [
    "import arcpy"
   ]
  },
  {
   "cell_type": "code",
   "execution_count": null,
   "metadata": {},
   "outputs": [],
   "source": [
    "arcpy.management.CreateRandomPoints(\n",
    "    out_path=r\"C:\\EsriTraining\\KNOW\\SupplyChain\\SupplyChain.gdb\",\n",
    "    out_name=\"Distributor_Geom\",\n",
    "    constraining_feature_class=\"World_Urban_Areas_Dissolve\",\n",
    "    constraining_extent=\"0 0 250 250\",\n",
    "    number_of_points_or_field=25,\n",
    "    minimum_allowed_distance=\"0 Meters\",\n",
    "    create_multipoint_output=\"POINT\",\n",
    "    multipoint_size=0\n",
    ")"
   ]
  },
  {
   "cell_type": "code",
   "execution_count": null,
   "metadata": {},
   "outputs": [],
   "source": [
    "field = [\"Shape@\"]\n",
    "\n",
    "sCur = arcpy.da.SearchCursor(r\"C:\\EsriTraining\\KNOW\\SupplyChain\\SupplyChain.gdb\\Supplier_Geom\",field)\n",
    "iCur = arcpy.da.InsertCursor(r\"C:\\EsriTraining\\KNOW\\SupplyChain\\Test.gdb\\Suppliers\", field)\n",
    "\n",
    "for row in sCur:\n",
    "    iCur.insertRow(row)\n",
    "print(\"Done\")\n",
    "del iCur\n",
    "del sCur"
   ]
  }
 ],
 "metadata": {
  "language_info": {
   "name": "python"
  }
 },
 "nbformat": 4,
 "nbformat_minor": 2
}
