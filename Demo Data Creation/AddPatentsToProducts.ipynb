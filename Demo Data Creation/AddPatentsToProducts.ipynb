{
 "cells": [
  {
   "cell_type": "code",
   "execution_count": 1,
   "metadata": {},
   "outputs": [],
   "source": [
    "import os, arcpy"
   ]
  },
  {
   "cell_type": "code",
   "execution_count": 2,
   "metadata": {},
   "outputs": [],
   "source": [
    "inFC = r\"C:\\DemoData\\KNOW\\SupplyChain\\SupplyChain.gdb\\Products\"\n",
    "inFolderTxtFiles = r\"C:\\DemoData\\KNOW\\SupplyChain\\Patents\""
   ]
  },
  {
   "cell_type": "markdown",
   "metadata": {},
   "source": [
    "Simple script to add the path of the text file to the Products FC."
   ]
  },
  {
   "cell_type": "code",
   "execution_count": 11,
   "metadata": {},
   "outputs": [
    {
     "name": "stdout",
     "output_type": "stream",
     "text": [
      "['Product 1', 'C:\\\\DemoData\\\\KNOW\\\\SupplyChain\\\\Patents\\\\Product_1_patent.txt'] Product_1_patent.txt\n",
      "['Product 2', 'C:\\\\DemoData\\\\KNOW\\\\SupplyChain\\\\Patents\\\\Product_2_patent.txt'] Product_2_patent.txt\n",
      "['Product 3', 'C:\\\\DemoData\\\\KNOW\\\\SupplyChain\\\\Patents\\\\Product_3_patent.txt'] Product_3_patent.txt\n",
      "['Product 4', 'C:\\\\DemoData\\\\KNOW\\\\SupplyChain\\\\Patents\\\\Product_4_patent.txt'] Product_4_patent.txt\n",
      "['Product 5', 'C:\\\\DemoData\\\\KNOW\\\\SupplyChain\\\\Patents\\\\Product_5_patent.txt'] Product_5_patent.txt\n",
      "['Product 6', 'C:\\\\DemoData\\\\KNOW\\\\SupplyChain\\\\Patents\\\\Product_6_patent.txt'] Product_6_patent.txt\n",
      "['Product 7', 'C:\\\\DemoData\\\\KNOW\\\\SupplyChain\\\\Patents\\\\Product_7_patent.txt'] Product_7_patent.txt\n",
      "['Product 8', 'C:\\\\DemoData\\\\KNOW\\\\SupplyChain\\\\Patents\\\\Product_8_patent.txt'] Product_8_patent.txt\n",
      "['Product 9', 'C:\\\\DemoData\\\\KNOW\\\\SupplyChain\\\\Patents\\\\Product_9_patent.txt'] Product_9_patent.txt\n",
      "['Product 10', 'C:\\\\DemoData\\\\KNOW\\\\SupplyChain\\\\Patents\\\\Product_10_patent.txt'] Product_10_patent.txt\n",
      "['Product 11', 'C:\\\\DemoData\\\\KNOW\\\\SupplyChain\\\\Patents\\\\Product_11_patent.txt'] Product_11_patent.txt\n",
      "['Product 12', 'C:\\\\DemoData\\\\KNOW\\\\SupplyChain\\\\Patents\\\\Product_12_patent.txt'] Product_12_patent.txt\n",
      "['Product 13', 'C:\\\\DemoData\\\\KNOW\\\\SupplyChain\\\\Patents\\\\Product_13_patent.txt'] Product_13_patent.txt\n",
      "['Product 14', 'C:\\\\DemoData\\\\KNOW\\\\SupplyChain\\\\Patents\\\\Product_14_patent.txt'] Product_14_patent.txt\n",
      "['Product 15', 'C:\\\\DemoData\\\\KNOW\\\\SupplyChain\\\\Patents\\\\Product_15_patent.txt'] Product_15_patent.txt\n",
      "['Product 16', 'C:\\\\DemoData\\\\KNOW\\\\SupplyChain\\\\Patents\\\\Product_16_patent.txt'] Product_16_patent.txt\n",
      "16\n"
     ]
    }
   ],
   "source": [
    "i=0\n",
    "cursor = arcpy.da.UpdateCursor(inFC, ['ProductName','Patent'])\n",
    "ext = \".txt\"\n",
    "with arcpy.EnvManager(workspace = inFolderTxtFiles):\n",
    "    filesList = arcpy.ListFiles(f\"*{ext}\")\n",
    "    for row in cursor:\n",
    "        for file in filesList:\n",
    "            if f'{row[0].replace(\" \",\"_\")}_patent.txt' == file:\n",
    "                print(row, file)\n",
    "                txtPatent = os.path.join(arcpy.env.workspace, file)\n",
    "                row[1] = txtPatent\n",
    "                i += 1\n",
    "print(i)\n",
    "del cursor"
   ]
  },
  {
   "cell_type": "code",
   "execution_count": null,
   "metadata": {},
   "outputs": [],
   "source": []
  }
 ],
 "metadata": {
  "kernelspec": {
   "display_name": "Python 3",
   "language": "python",
   "name": "python3"
  },
  "language_info": {
   "codemirror_mode": {
    "name": "ipython",
    "version": 3
   },
   "file_extension": ".py",
   "mimetype": "text/x-python",
   "name": "python",
   "nbconvert_exporter": "python",
   "pygments_lexer": "ipython3",
   "version": "3.9.18"
  }
 },
 "nbformat": 4,
 "nbformat_minor": 2
}
