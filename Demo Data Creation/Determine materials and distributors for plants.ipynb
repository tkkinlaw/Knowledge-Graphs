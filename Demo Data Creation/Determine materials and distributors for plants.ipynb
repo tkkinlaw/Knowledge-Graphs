{
 "cells": [
  {
   "cell_type": "markdown",
   "metadata": {},
   "source": [
    "Each plant creates one part. For each part, determine a random number of materials it creates the part with. Then, generate a random list of distributors that provide that material."
   ]
  },
  {
   "cell_type": "code",
   "execution_count": 1,
   "metadata": {},
   "outputs": [],
   "source": [
    "import arcpy\n",
    "import pandas as pd\n",
    "import arcgis\n",
    "from pprint import pprint\n",
    "import random"
   ]
  },
  {
   "cell_type": "code",
   "execution_count": 2,
   "metadata": {},
   "outputs": [],
   "source": [
    "plantFC = r\"C:\\Users\\student\\Documents\\ArcGIS\\Projects\\KNOWDemo\\SupplyChain.gdb\\ProcessingPlants\"\n",
    "distFC = r\"C:\\Users\\student\\Documents\\ArcGIS\\Projects\\KNOWDemo\\SupplyChain.gdb\\Distributors\"\n",
    "\n",
    "distSdf = pd.DataFrame.spatial.from_featureclass(distFC)\n",
    "plantSdf = pd.DataFrame.spatial.from_featureclass(plantFC)"
   ]
  },
  {
   "cell_type": "code",
   "execution_count": 3,
   "metadata": {},
   "outputs": [],
   "source": [
    "plantFields = [\"Name\", \"Material\", \"Part\", \"Distributors\"]\n",
    "def addMatAndDist(inPlantFC, fields):\n",
    "    matTypes = list(distSdf['Material'].unique())\n",
    "\n",
    "    uCur = arcpy.da.UpdateCursor(inPlantFC, fields)\n",
    "\n",
    "    def removeChars(arg1):\n",
    "        strFromList = str(arg1)\n",
    "        for char in ['[',']',\"'\"]:\n",
    "            strFromList = strFromList.replace(char,\"\")\n",
    "        return strFromList\n",
    "\n",
    "    for row in uCur:\n",
    "        num = int(random.choice([1,2,3,4]))\n",
    "        mats = random.sample(matTypes, num)\n",
    "        part = row[2]\n",
    "        for mat in mats:\n",
    "            distributorsList = list(distSdf.loc[distSdf['Material'] == mat]['Name'])\n",
    "            \n",
    "        matsStr = removeChars(mats)\n",
    "        distList = removeChars(distributorsList)\n",
    "            \n",
    "        #print(f\"Creating {part} from these {num} materials: {matsStr}. \\nMaterials are from these distributors: {distList}\")\n",
    "        row[1] = matsStr\n",
    "        row[3] = distList\n",
    "        #print(row)\n",
    "        #print()\n",
    "        uCur.updateRow(row)\n",
    "    #print(\"Done\")\n",
    "    del uCur\n",
    "\n",
    "# use a search cursor to see if each distributor is in the list\n",
    "def getUniqueDists(inPlantFC, field):\n",
    "    src = arcpy.da.SearchCursor(inPlantFC, field)\n",
    "    usedDists = []\n",
    "    for row in src:\n",
    "        for d in row[0].split(','):\n",
    "            usedDists.append(d.strip())\n",
    "    return(usedDists)\n",
    "\n",
    "#for d in set(getUniqueDists(plantFC, plantFields)):\n"
   ]
  },
  {
   "cell_type": "code",
   "execution_count": 4,
   "metadata": {},
   "outputs": [
    {
     "name": "stdout",
     "output_type": "stream",
     "text": [
      "17\n",
      "23\n",
      "They match\n"
     ]
    }
   ],
   "source": [
    "addMatAndDist(plantFC, plantFields)\n",
    "\n",
    "d = set(getUniqueDists(distFC, \"Name\"))\n",
    "p = set(getUniqueDists(plantFC, \"Distributors\"))\n",
    "\n",
    "test = len(d) != len(p)\n",
    "\n",
    "while d!= p:\n",
    "    addMatAndDist(plantFC, plantFields)\n",
    "    p = set(getUniqueDists(plantFC, \"Distributors\"))\n",
    "    print(len(p))\n",
    "    if d == p:\n",
    "        print(\"They match\")\n",
    "        break"
   ]
  }
 ],
 "metadata": {
  "kernelspec": {
   "display_name": "Python 3",
   "language": "python",
   "name": "python3"
  },
  "language_info": {
   "codemirror_mode": {
    "name": "ipython",
    "version": 3
   },
   "file_extension": ".py",
   "mimetype": "text/x-python",
   "name": "python",
   "nbconvert_exporter": "python",
   "pygments_lexer": "ipython3",
   "version": "3.9.18"
  }
 },
 "nbformat": 4,
 "nbformat_minor": 2
}
