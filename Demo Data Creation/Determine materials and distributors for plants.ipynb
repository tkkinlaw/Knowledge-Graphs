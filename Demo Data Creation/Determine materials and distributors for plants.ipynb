{
 "cells": [
  {
   "cell_type": "markdown",
   "metadata": {},
   "source": [
    "Each plant creates one part. For each part, determine a random number of materials it creates the part with. Then, generate a random list of distributors that provide that material."
   ]
  },
  {
   "cell_type": "code",
   "execution_count": null,
   "metadata": {},
   "outputs": [],
   "source": [
    "import arcpy\n",
    "import pandas as pd\n",
    "import arcgis\n",
    "from pprint import pprint\n",
    "import random"
   ]
  },
  {
   "cell_type": "code",
   "execution_count": null,
   "metadata": {},
   "outputs": [],
   "source": [
    "plantFC = r\"C:\\EsriTraining\\KNOW\\SupplyChain\\Test.gdb\\ProcessingPlants\"\n",
    "distFC = r\"C:\\EsriTraining\\KNOW\\SupplyChain\\Test.gdb\\Distributors\"\n",
    "\n",
    "distSdf = pd.DataFrame.spatial.from_featureclass(distFC)\n",
    "plantSdf = pd.DataFrame.spatial.from_featureclass(plantFC)"
   ]
  },
  {
   "cell_type": "code",
   "execution_count": null,
   "metadata": {},
   "outputs": [],
   "source": [
    "matTypes = list(distSdf['Material'].unique())\n",
    "\n",
    "uCur = arcpy.da.UpdateCursor(plantFC, [\"Name\", \"Material\", \"Part\", \"Distributors\"])\n",
    "\n",
    "def removeChars(arg1):\n",
    "    strFromList = str(arg1)\n",
    "    for char in ['[',']',\"'\"]:\n",
    "        strFromList = strFromList.replace(char,\"\")\n",
    "    return strFromList\n",
    "\n",
    "for row in uCur:\n",
    "    num = int(random.choice([1,2,3,4]))\n",
    "    mats = random.sample(matTypes, num)\n",
    "    for mat in mats:\n",
    "        distributorsList = list(distSdf.loc[distSdf['Material'] == mat]['Name'])\n",
    "        \n",
    "    matsStr = removeChars(mats)\n",
    "    distList = removeChars(distributorsList)\n",
    "        \n",
    "    print(f\"Creating {part} from these {num} materials: {matsStr}. \\nMaterials are from these distributors: {distList}\")\n",
    "    row[1] = matsStr\n",
    "    row[3] = distList\n",
    "    print(row)\n",
    "    print()\n",
    "    uCur.updateRow(row)\n",
    "print(\"Done\")\n",
    "del uCur"
   ]
  }
 ],
 "metadata": {
  "language_info": {
   "name": "python"
  }
 },
 "nbformat": 4,
 "nbformat_minor": 2
}
