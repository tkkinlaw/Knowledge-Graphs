{
 "cells": [
  {
   "cell_type": "markdown",
   "metadata": {},
   "source": [
    "1. Get dictionary of distributors and Materials from Distributors FC.\n",
    "2. For each supplier, choose a random Distributor to provide the material for. "
   ]
  },
  {
   "cell_type": "code",
   "execution_count": null,
   "metadata": {},
   "outputs": [],
   "source": [
    "import arcpy\n",
    "import pandas as pd\n",
    "import arcgis\n",
    "from pprint import pprint\n",
    "import random"
   ]
  },
  {
   "cell_type": "code",
   "execution_count": null,
   "metadata": {},
   "outputs": [],
   "source": [
    "sdf = pd.DataFrame.spatial.from_featureclass(r\"C:\\EsriTraining\\KNOW\\SupplyChain\\Test.gdb\\Distributors\")\n",
    "sdf.head(5)"
   ]
  },
  {
   "cell_type": "code",
   "execution_count": null,
   "metadata": {},
   "outputs": [],
   "source": [
    "dict = {}\n",
    "matTypes = list(sdf['Material'].unique())\n",
    "\n",
    "for mat in matTypes:\n",
    "    print(mat)\n",
    "    dists = list(sdf.loc[sdf['Material'] == mat]['Name'])\n",
    "    dict[mat] = dists\n",
    "    print(dists)"
   ]
  },
  {
   "cell_type": "code",
   "execution_count": null,
   "metadata": {},
   "outputs": [],
   "source": [
    "pprint(dict)"
   ]
  },
  {
   "cell_type": "code",
   "execution_count": null,
   "metadata": {},
   "outputs": [],
   "source": [
    "uCur = arcpy.da.UpdateCursor(r\"C:\\EsriTraining\\KNOW\\SupplyChain\\Test.gdb\\Suppliers\",[\"Material\",\"Distributor\"])\n",
    "for row in uCur:\n",
    "    row[1] = random.choice(dict[row[0]])\n",
    "    print(row)\n",
    "    uCur.updateRow(row)\n",
    "del uCur"
   ]
  }
 ],
 "metadata": {
  "language_info": {
   "name": "python"
  }
 },
 "nbformat": 4,
 "nbformat_minor": 2
}
