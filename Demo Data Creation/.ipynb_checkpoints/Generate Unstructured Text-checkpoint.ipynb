{
 "cells": [
  {
   "cell_type": "code",
   "execution_count": null,
   "metadata": {},
   "outputs": [
    {
     "ename": "KeyboardInterrupt",
     "evalue": "",
     "output_type": "error",
     "traceback": [
      "\u001b[0;31m---------------------------------------------------------------------------\u001b[0m\n\u001b[0;31mKeyboardInterrupt\u001b[0m                         Traceback (most recent call last)",
      "\u001b[0;31mKeyboardInterrupt\u001b[0m: \n\u001b[0;31m---------------------------------------------------------------------------\u001b[0m"
     ]
    }
   ],
   "source": [
    "import os\n",
    "import arcpy\n",
    "from arcgis.features import GeoAccessor, GeoSeriesAccessor\n",
    "import pandas as pd\n",
    "import random\n",
    "#from faker import Faker"
   ]
  },
  {
   "cell_type": "markdown",
   "metadata": {},
   "source": [
    "The patent txt file will look like this:\n",
    "- This is a Patent applicaiton file.\n",
    "- Product name\n",
    "- Applicant: Company\n",
    "- Inventor: random fake name\n",
    "- Application number: random number\n",
    "- Filed: date\n",
    "\n",
    "Need to get a list of the companies from the Products table in the SupplyChain.gdb, and the list of product names."
   ]
  },
  {
   "cell_type": "code",
   "execution_count": null,
   "metadata": {},
   "outputs": [
    {
     "name": "stdout",
     "output_type": "stream",
     "text": [
      "\n",
      "This is a Patent application file.\n",
      "{}\n",
      "Applicant: {}\n",
      "Inventor: {}\n",
      "Application number: {}\n",
      "Filed: {}\n",
      "\n"
     ]
    }
   ],
   "source": [
    "unstructFolder = r\"C:\\Users\\student\\Documents\\GitHub\\Knowledge-Graphs\\Demo Data\\v3\\Unstructured text data\"\n",
    "baseTxt = \"\"\"\n",
    "This is a Patent application file.\n",
    "{}\n",
    "Applicant: {}\n",
    "Inventor: {}\n",
    "Application number: {}\n",
    "Filed: {}\n",
    "\"\"\"#format(productName, company, ranPerson, appNum, ranDate)\n",
    "print(baseTxt)"
   ]
  },
  {
   "cell_type": "code",
   "execution_count": null,
   "metadata": {},
   "outputs": [
    {
     "data": {
      "text/plain": [
       "0"
      ]
     },
     "execution_count": 6,
     "metadata": {},
     "output_type": "execute_result"
    }
   ],
   "source": [
    "productTable = r\"C:\\DemoData\\KNOW\\SupplyChain\\SupplyChain.gdb\\Products\"\n",
    "sdf = pd.DataFrame.spatial.from_table(productTable)\n",
    "sdf.head(5)\n",
    "len(sdf)"
   ]
  }
 ],
 "metadata": {
  "kernelspec": {
   "display_name": "ArcGISPro",
   "language": "Python",
   "name": "python3"
  },
  "language_info": {
   "file_extension": ".py",
   "name": "python",
   "version": "3"
  }
 },
 "nbformat": 4,
 "nbformat_minor": 2
}
