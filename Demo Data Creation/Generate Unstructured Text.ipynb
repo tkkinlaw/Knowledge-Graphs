{
 "cells": [
  {
   "cell_type": "code",
   "execution_count": 16,
   "metadata": {},
   "outputs": [],
   "source": [
    "import os\n",
    "import shutil\n",
    "import arcpy\n",
    "import arcgis\n",
    "from arcgis.features import GeoAccessor, GeoSeriesAccessor\n",
    "import pandas as pd\n",
    "import random\n",
    "from faker import Faker"
   ]
  },
  {
   "cell_type": "markdown",
   "metadata": {},
   "source": [
    "The patent txt file will look like this:\n",
    "- This is a Patent applicaiton file.\n",
    "- Product name\n",
    "- Applicant: Company\n",
    "- Inventor: random fake name\n",
    "- Application number: random number\n",
    "- Filed: date\n",
    "\n",
    "Need to get a list of the companies from the Products table in the SupplyChain.gdb, and the list of product names."
   ]
  },
  {
   "cell_type": "code",
   "execution_count": 4,
   "metadata": {},
   "outputs": [
    {
     "name": "stdout",
     "output_type": "stream",
     "text": [
      "\n",
      "This is a Patent application file.\n",
      "{}\n",
      "Applicant: {}\n",
      "Inventor: {}\n",
      "Application number: {}\n",
      "Filed: {}\n",
      "\n"
     ]
    }
   ],
   "source": [
    "unstructFolder = r\"C:\\Users\\student\\Documents\\GitHub\\Knowledge-Graphs\\Demo Data\\v3\\Unstructured text data\"\n",
    "baseTxt = \"\"\"\n",
    "This is a Patent application file.\n",
    "{}\n",
    "Applicant: {}\n",
    "Inventor: {}\n",
    "Application number: {}\n",
    "Filed: {}\n",
    "\"\"\"#format(productName, company, ranPerson, appNum, ranDate)\n",
    "print(baseTxt)"
   ]
  },
  {
   "cell_type": "code",
   "execution_count": 17,
   "metadata": {},
   "outputs": [
    {
     "name": "stdout",
     "output_type": "stream",
     "text": [
      "C:\\scratch Created\n",
      "C:\\scratch\\Products.csv\n",
      "Deleted C:\\scratch\n"
     ]
    },
    {
     "data": {
      "text/html": [
       "<div>\n",
       "<style scoped>\n",
       "    .dataframe tbody tr th:only-of-type {\n",
       "        vertical-align: middle;\n",
       "    }\n",
       "\n",
       "    .dataframe tbody tr th {\n",
       "        vertical-align: top;\n",
       "    }\n",
       "\n",
       "    .dataframe thead th {\n",
       "        text-align: right;\n",
       "    }\n",
       "</style>\n",
       "<table border=\"1\" class=\"dataframe\">\n",
       "  <thead>\n",
       "    <tr style=\"text-align: right;\">\n",
       "      <th></th>\n",
       "      <th>ProductName</th>\n",
       "      <th>Parts</th>\n",
       "      <th>Patent</th>\n",
       "      <th>CompanyName</th>\n",
       "      <th>MSRP_Num</th>\n",
       "    </tr>\n",
       "  </thead>\n",
       "  <tbody>\n",
       "    <tr>\n",
       "      <th>0</th>\n",
       "      <td>Product 1</td>\n",
       "      <td>Part 3, Part 7</td>\n",
       "      <td>NaN</td>\n",
       "      <td>Wood, Gonzalez and Carter</td>\n",
       "      <td>41</td>\n",
       "    </tr>\n",
       "    <tr>\n",
       "      <th>1</th>\n",
       "      <td>Product 2</td>\n",
       "      <td>Part 3, Part 7, Part 4</td>\n",
       "      <td>NaN</td>\n",
       "      <td>Kim PLC</td>\n",
       "      <td>830</td>\n",
       "    </tr>\n",
       "    <tr>\n",
       "      <th>2</th>\n",
       "      <td>Product 3</td>\n",
       "      <td>Part 7, Part 3, Part 1, Part 4</td>\n",
       "      <td>NaN</td>\n",
       "      <td>Kennedy, Hanson and Aguilar</td>\n",
       "      <td>976</td>\n",
       "    </tr>\n",
       "    <tr>\n",
       "      <th>3</th>\n",
       "      <td>Product 4</td>\n",
       "      <td>Part 1, Part 7, Part 2</td>\n",
       "      <td>NaN</td>\n",
       "      <td>David-Baker</td>\n",
       "      <td>412</td>\n",
       "    </tr>\n",
       "    <tr>\n",
       "      <th>4</th>\n",
       "      <td>Product 5</td>\n",
       "      <td>Part 1, Part 5, Part 6, Part 3</td>\n",
       "      <td>NaN</td>\n",
       "      <td>Rivera-Thomas</td>\n",
       "      <td>380</td>\n",
       "    </tr>\n",
       "  </tbody>\n",
       "</table>\n",
       "</div>"
      ],
      "text/plain": [
       "  ProductName                           Parts  Patent  \\\n",
       "0   Product 1                  Part 3, Part 7     NaN   \n",
       "1   Product 2          Part 3, Part 7, Part 4     NaN   \n",
       "2   Product 3  Part 7, Part 3, Part 1, Part 4     NaN   \n",
       "3   Product 4          Part 1, Part 7, Part 2     NaN   \n",
       "4   Product 5  Part 1, Part 5, Part 6, Part 3     NaN   \n",
       "\n",
       "                   CompanyName  MSRP_Num  \n",
       "0    Wood, Gonzalez and Carter        41  \n",
       "1                      Kim PLC       830  \n",
       "2  Kennedy, Hanson and Aguilar       976  \n",
       "3                  David-Baker       412  \n",
       "4                Rivera-Thomas       380  "
      ]
     },
     "execution_count": 17,
     "metadata": {},
     "output_type": "execute_result"
    }
   ],
   "source": [
    "productTable = r\"C:\\DemoData\\KNOW\\SupplyChain\\SupplyChain.gdb\\Products\"\n",
    "outTable =\"Products.csv\"\n",
    "def makeDF(arg1):\n",
    "    # Create a scratch directory\n",
    "    scratchDir = r\"C:\\scratch\"\n",
    "    os.mkdir(scratchDir)\n",
    "    print(f\"{scratchDir} Created\")\n",
    "\n",
    "    # Export the table to a CSV\n",
    "    tempTable = os.path.join(scratchDir, arcpy.da.Describe(arg1)['baseName'] + \".csv\")\n",
    "    arcpy.conversion.ExportTable(arg1, tempTable)\n",
    "\n",
    "    # Read the CSV file as data frame\n",
    "    sdf = pd.read_csv(tempTable)\n",
    "    \n",
    "    # Delete the CSV file\n",
    "    arcpy.management.Delete(tempTable)\n",
    "\n",
    "    # Delete the scratch directory\n",
    "    shutil.rmtree(scratchDir)\n",
    "    print(f\"Deleted {scratchDir}\")\n",
    "    return sdf\n",
    "\n",
    "sdf = makeDF(productTable)\n",
    "sdf.head()"
   ]
  },
  {
   "cell_type": "code",
   "execution_count": 5,
   "metadata": {},
   "outputs": [],
   "source": [
    "scratchDir = os.mkdir(r\"C:\\scratch\")"
   ]
  },
  {
   "cell_type": "markdown",
   "metadata": {},
   "source": []
  }
 ],
 "metadata": {
  "kernelspec": {
   "display_name": "Python 3",
   "language": "python",
   "name": "python3"
  },
  "language_info": {
   "codemirror_mode": {
    "name": "ipython",
    "version": 3
   },
   "file_extension": ".py",
   "mimetype": "text/x-python",
   "name": "python",
   "nbconvert_exporter": "python",
   "pygments_lexer": "ipython3",
   "version": "3.9.18"
  }
 },
 "nbformat": 4,
 "nbformat_minor": 2
}
