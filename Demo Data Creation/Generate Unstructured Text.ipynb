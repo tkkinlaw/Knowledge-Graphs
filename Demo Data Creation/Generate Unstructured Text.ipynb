{
 "cells": [
  {
   "cell_type": "code",
   "execution_count": 1,
   "metadata": {},
   "outputs": [],
   "source": [
    "import os\n",
    "import arcpy\n",
    "from arcgis.features import GeoAccessor, GeoSeriesAccessor\n",
    "import pandas as pd\n",
    "import random\n",
    "from faker import Faker"
   ]
  },
  {
   "cell_type": "markdown",
   "metadata": {},
   "source": [
    "The patent txt file will look like this:\n",
    "- This is a Patent applicaiton file.\n",
    "- Product name\n",
    "- Applicant: Company\n",
    "- Inventor: random fake name\n",
    "- Application number: random number\n",
    "- Filed: date\n",
    "\n",
    "Need to get a list of the companies from the Products table in the SupplyChain.gdb, and the list of product names."
   ]
  },
  {
   "cell_type": "code",
   "execution_count": 2,
   "metadata": {},
   "outputs": [
    {
     "name": "stdout",
     "output_type": "stream",
     "text": [
      "\n",
      "This is a Patent application file.\n",
      "{}\n",
      "Applicant: {}\n",
      "Inventor: {}\n",
      "Application number: {}\n",
      "Filed: {}\n",
      "\n"
     ]
    }
   ],
   "source": [
    "unstructFolder = r\"C:\\Users\\student\\Documents\\GitHub\\Knowledge-Graphs\\Demo Data\\v3\\Unstructured text data\"\n",
    "baseTxt = \"\"\"\n",
    "This is a Patent application file.\n",
    "{}\n",
    "Applicant: {}\n",
    "Inventor: {}\n",
    "Application number: {}\n",
    "Filed: {}\n",
    "\"\"\"#format(productName, company, ranPerson, appNum, ranDate)\n",
    "print(baseTxt)"
   ]
  },
  {
   "cell_type": "code",
   "execution_count": 7,
   "metadata": {},
   "outputs": [
    {
     "data": {
      "text/plain": [
       "0"
      ]
     },
     "execution_count": 7,
     "metadata": {},
     "output_type": "execute_result"
    }
   ],
   "source": [
    "productTable = r\"C:\\DemoData\\KNOW\\SupplyChain\\SupplyChain.gdb\\Products\"\n",
    "sdf = pd.DataFrame.spatial.from_table(productTable)\n",
    "sdf.head(5)\n",
    "len(sdf)"
   ]
  },
  {
   "cell_type": "markdown",
   "metadata": {},
   "source": []
  }
 ],
 "metadata": {
  "kernelspec": {
   "display_name": "Python 3",
   "language": "python",
   "name": "python3"
  },
  "language_info": {
   "codemirror_mode": {
    "name": "ipython",
    "version": 3
   },
   "file_extension": ".py",
   "mimetype": "text/x-python",
   "name": "python",
   "nbconvert_exporter": "python",
   "pygments_lexer": "ipython3",
   "version": "3.9.18"
  }
 },
 "nbformat": 4,
 "nbformat_minor": 2
}
