{
 "cells": [
  {
   "cell_type": "markdown",
   "metadata": {},
   "source": [
    "This script creats a clean dataset of products. Each product is created with a random number of random Parts from a processing plant. "
   ]
  },
  {
   "cell_type": "markdown",
   "metadata": {},
   "source": [
    "1. Get a dictionary of the Processing Plants and the part created\n",
    "2. Get a dictionary of the Products and the parts used.\n",
    "3. Randomly generate parts for a product, a name, and a price."
   ]
  },
  {
   "cell_type": "code",
   "execution_count": 1,
   "metadata": {},
   "outputs": [],
   "source": [
    "import arcpy\n",
    "import pandas as pd\n",
    "import arcgis\n",
    "from pprint import pprint\n",
    "import random\n",
    "import os\n",
    "from faker import Faker"
   ]
  },
  {
   "cell_type": "code",
   "execution_count": 2,
   "metadata": {},
   "outputs": [],
   "source": [
    "gdb = r\"C:\\DemoData\\KNOW\\SupplyChain\\SupplyChain.gdb\"\n",
    "pplants = \"ProcessingPlants\"\n",
    "products = \"Products\"\n",
    "pplantPath = os.path.join(gdb, pplants)\n",
    "productsPath = os.path.join(gdb, products)"
   ]
  },
  {
   "cell_type": "code",
   "execution_count": 3,
   "metadata": {},
   "outputs": [
    {
     "data": {
      "text/html": [
       "<div>\n",
       "<style scoped>\n",
       "    .dataframe tbody tr th:only-of-type {\n",
       "        vertical-align: middle;\n",
       "    }\n",
       "\n",
       "    .dataframe tbody tr th {\n",
       "        vertical-align: top;\n",
       "    }\n",
       "\n",
       "    .dataframe thead th {\n",
       "        text-align: right;\n",
       "    }\n",
       "</style>\n",
       "<table border=\"1\" class=\"dataframe\">\n",
       "  <thead>\n",
       "    <tr style=\"text-align: right;\">\n",
       "      <th></th>\n",
       "      <th>OBJECTID</th>\n",
       "      <th>X_WGS1984</th>\n",
       "      <th>Y_WGS1984</th>\n",
       "      <th>Type</th>\n",
       "      <th>Name</th>\n",
       "      <th>Material</th>\n",
       "      <th>Part</th>\n",
       "      <th>Distributors</th>\n",
       "      <th>PlantID</th>\n",
       "      <th>SHAPE</th>\n",
       "    </tr>\n",
       "  </thead>\n",
       "  <tbody>\n",
       "    <tr>\n",
       "      <th>0</th>\n",
       "      <td>1</td>\n",
       "      <td>-117.125496</td>\n",
       "      <td>32.761458</td>\n",
       "      <td>Processing Plant</td>\n",
       "      <td>Plant 1</td>\n",
       "      <td>Metals, Plastics</td>\n",
       "      <td>Part 1</td>\n",
       "      <td>Distributor 2, Distributor 4, Distributor 9, D...</td>\n",
       "      <td>1</td>\n",
       "      <td>{\"x\": -117.12549565567934, \"y\": 32.76145804719...</td>\n",
       "    </tr>\n",
       "    <tr>\n",
       "      <th>1</th>\n",
       "      <td>2</td>\n",
       "      <td>29.006001</td>\n",
       "      <td>41.066001</td>\n",
       "      <td>Processing Plant</td>\n",
       "      <td>Plant 2</td>\n",
       "      <td>Aluminum, Plastics, Steel, Metals</td>\n",
       "      <td>Part 2</td>\n",
       "      <td>Distributor 6, Distributor 10, Distributor 12,...</td>\n",
       "      <td>2</td>\n",
       "      <td>{\"x\": 29.00600140272212, \"y\": 41.0660009628414...</td>\n",
       "    </tr>\n",
       "    <tr>\n",
       "      <th>2</th>\n",
       "      <td>3</td>\n",
       "      <td>72.826002</td>\n",
       "      <td>19.077003</td>\n",
       "      <td>Processing Plant</td>\n",
       "      <td>Plant 3</td>\n",
       "      <td>Plastics, Steel, Metals</td>\n",
       "      <td>Part 3</td>\n",
       "      <td>Distributor 6, Distributor 10, Distributor 12,...</td>\n",
       "      <td>3</td>\n",
       "      <td>{\"x\": 72.82600233462313, \"y\": 19.0770029830576...</td>\n",
       "    </tr>\n",
       "    <tr>\n",
       "      <th>3</th>\n",
       "      <td>4</td>\n",
       "      <td>90.407142</td>\n",
       "      <td>23.709915</td>\n",
       "      <td>Processing Plant</td>\n",
       "      <td>Plant 4</td>\n",
       "      <td>Steel, Plastics</td>\n",
       "      <td>Part 4</td>\n",
       "      <td>Distributor 2, Distributor 4, Distributor 9, D...</td>\n",
       "      <td>4</td>\n",
       "      <td>{\"x\": 90.40714232325718, \"y\": 23.7099149438166...</td>\n",
       "    </tr>\n",
       "    <tr>\n",
       "      <th>4</th>\n",
       "      <td>5</td>\n",
       "      <td>120.165003</td>\n",
       "      <td>30.252996</td>\n",
       "      <td>Processing Plant</td>\n",
       "      <td>Plant 5</td>\n",
       "      <td>Plastics, Aluminum</td>\n",
       "      <td>Part 5</td>\n",
       "      <td>Distributor 1, Distributor 3, Distributor 7, D...</td>\n",
       "      <td>5</td>\n",
       "      <td>{\"x\": 120.16500334735883, \"y\": 30.252996010603...</td>\n",
       "    </tr>\n",
       "  </tbody>\n",
       "</table>\n",
       "</div>"
      ],
      "text/plain": [
       "   OBJECTID   X_WGS1984  Y_WGS1984              Type     Name  \\\n",
       "0         1 -117.125496  32.761458  Processing Plant  Plant 1   \n",
       "1         2   29.006001  41.066001  Processing Plant  Plant 2   \n",
       "2         3   72.826002  19.077003  Processing Plant  Plant 3   \n",
       "3         4   90.407142  23.709915  Processing Plant  Plant 4   \n",
       "4         5  120.165003  30.252996  Processing Plant  Plant 5   \n",
       "\n",
       "                            Material    Part  \\\n",
       "0                   Metals, Plastics  Part 1   \n",
       "1  Aluminum, Plastics, Steel, Metals  Part 2   \n",
       "2            Plastics, Steel, Metals  Part 3   \n",
       "3                    Steel, Plastics  Part 4   \n",
       "4                 Plastics, Aluminum  Part 5   \n",
       "\n",
       "                                        Distributors PlantID  \\\n",
       "0  Distributor 2, Distributor 4, Distributor 9, D...       1   \n",
       "1  Distributor 6, Distributor 10, Distributor 12,...       2   \n",
       "2  Distributor 6, Distributor 10, Distributor 12,...       3   \n",
       "3  Distributor 2, Distributor 4, Distributor 9, D...       4   \n",
       "4  Distributor 1, Distributor 3, Distributor 7, D...       5   \n",
       "\n",
       "                                               SHAPE  \n",
       "0  {\"x\": -117.12549565567934, \"y\": 32.76145804719...  \n",
       "1  {\"x\": 29.00600140272212, \"y\": 41.0660009628414...  \n",
       "2  {\"x\": 72.82600233462313, \"y\": 19.0770029830576...  \n",
       "3  {\"x\": 90.40714232325718, \"y\": 23.7099149438166...  \n",
       "4  {\"x\": 120.16500334735883, \"y\": 30.252996010603...  "
      ]
     },
     "execution_count": 3,
     "metadata": {},
     "output_type": "execute_result"
    }
   ],
   "source": [
    "sdf = pd.DataFrame.spatial.from_featureclass(pplantPath)\n",
    "sdf.head(5)"
   ]
  },
  {
   "cell_type": "code",
   "execution_count": 4,
   "metadata": {},
   "outputs": [
    {
     "name": "stdout",
     "output_type": "stream",
     "text": [
      "{'Plant 1': 'Part 1', 'Plant 2': 'Part 2', 'Plant 3': 'Part 3', 'Plant 4': 'Part 4', 'Plant 5': 'Part 5', 'Plant 6': 'Part 6', 'Plant 7': 'Part 7'}\n"
     ]
    }
   ],
   "source": [
    "partsFromPlant = {}\n",
    "parts = list(sdf['Part'].unique())\n",
    "for part in parts:\n",
    "    pplant = list(sdf.loc[sdf['Part'] == part]['Name'])[0]\n",
    "    partsFromPlant[pplant]=part\n",
    "print(partsFromPlant)"
   ]
  },
  {
   "cell_type": "code",
   "execution_count": 5,
   "metadata": {},
   "outputs": [
    {
     "name": "stdout",
     "output_type": "stream",
     "text": [
      "Brennan and Sons\n",
      "Mercer-Wade\n",
      "Pearson PLC\n",
      "Anderson, Ewing and Ortiz\n",
      "Williams-Willis\n",
      "Vasquez Inc\n",
      "Carter Inc\n",
      "Armstrong Ltd\n",
      "Santana-Norris\n",
      "Campbell-Clark\n"
     ]
    }
   ],
   "source": [
    "from faker import Faker\n",
    "\n",
    "fake = Faker()\n",
    "\n",
    "def generate_company_name():\n",
    "    return fake.company()\n",
    "\n",
    "# Generate 10 random company names\n",
    "for _ in range(10):\n",
    "    print(generate_company_name())\n"
   ]
  },
  {
   "cell_type": "code",
   "execution_count": 6,
   "metadata": {},
   "outputs": [],
   "source": [
    "# Gerneate fake names\n",
    "\n",
    "def generate_company_name_list():\n",
    "    companyList = []\n",
    "    fakeCompany = Faker()\n",
    "    for _ in range(10): # random number\n",
    "        companyList.append(fakeCompany.company())    \n",
    "    return companyList\n",
    "\n",
    "# Generate a fake price\n",
    "def generate_msrp():\n",
    "    fakeMSRP = Faker()\n",
    "    price = f\"${fakeMSRP.random_int(min=10, max=1000)}\"\n",
    "    return price\n",
    "\n",
    "# Helper function to remove unwanted characters\n",
    "def removeChars(arg1):\n",
    "    strFromList = str(arg1)\n",
    "    for char in ['[',']',\"'\"]:\n",
    "        strFromList = strFromList.replace(char,\"\")\n",
    "    return strFromList"
   ]
  },
  {
   "cell_type": "code",
   "execution_count": 7,
   "metadata": {},
   "outputs": [
    {
     "name": "stdout",
     "output_type": "stream",
     "text": [
      "['Product 1', 'Part 3, Part 7', 'Wood, Gonzalez and Carter', '$41']\n",
      "['Product 2', 'Part 3, Part 7, Part 4', 'Kim PLC', '$830']\n",
      "['Product 3', 'Part 7, Part 3, Part 1, Part 4', 'Kennedy, Hanson and Aguilar', '$976']\n",
      "['Product 4', 'Part 1, Part 7, Part 2', 'David-Baker', '$412']\n",
      "['Product 5', 'Part 1, Part 5, Part 6, Part 3', 'Rivera-Thomas', '$380']\n",
      "['Product 6', 'Part 7, Part 2, Part 5', 'Kim PLC', '$579']\n",
      "['Product 7', 'Part 3, Part 5', 'Kim PLC', '$567']\n",
      "['Product 8', 'Part 4, Part 1, Part 7', 'Wood, Gonzalez and Carter', '$255']\n",
      "['Product 9', 'Part 1, Part 6, Part 2, Part 5', 'Kim PLC', '$258']\n",
      "['Product 10', 'Part 5, Part 1', 'Kim PLC', '$837']\n",
      "['Product 11', 'Part 6, Part 7, Part 4', 'Rivera-Thomas', '$410']\n",
      "['Product 12', 'Part 6, Part 2', 'Wood, Gonzalez and Carter', '$667']\n",
      "['Product 13', 'Part 4, Part 7, Part 5', 'Moody-Martin', '$129']\n",
      "['Product 14', 'Part 3, Part 6', 'Wood, Gonzalez and Carter', '$926']\n",
      "['Product 15', 'Part 6, Part 1', 'Bell Ltd', '$922']\n",
      "['Product 16', 'Part 4, Part 6, Part 1, Part 5', 'Phillips, Smith and Fuller', '$915']\n",
      "Data added\n"
     ]
    }
   ],
   "source": [
    "randCompanyList = generate_company_name_list()\n",
    "iCur = arcpy.da.InsertCursor(productsPath,[\"ProductName\",\"Parts\",\"Company\",\"MSRP\"])\n",
    "i=1\n",
    "\n",
    "for i in range(1, 17): #17 is arbitrary\n",
    "    row=[]\n",
    "    row.append(f\"Product {i}\")\n",
    "    num = int(random.choice([2,3,4]))\n",
    "    productParts = removeChars(random.sample(list(partsFromPlant.values()), num))\n",
    "    row.append(productParts)\n",
    "    row.append(random.choice(randCompanyList))\n",
    "    row.append(generate_msrp())\n",
    "    print(row)\n",
    "    iCur.insertRow(row)\n",
    "    i+=1\n",
    "del iCur\n",
    "print(\"Data added\")"
   ]
  },
  {
   "cell_type": "markdown",
   "metadata": {},
   "source": []
  }
 ],
 "metadata": {
  "kernelspec": {
   "display_name": "Python 3",
   "language": "python",
   "name": "python3"
  },
  "language_info": {
   "codemirror_mode": {
    "name": "ipython",
    "version": 3
   },
   "file_extension": ".py",
   "mimetype": "text/x-python",
   "name": "python",
   "nbconvert_exporter": "python",
   "pygments_lexer": "ipython3",
   "version": "3.9.18"
  }
 },
 "nbformat": 4,
 "nbformat_minor": 2
}
