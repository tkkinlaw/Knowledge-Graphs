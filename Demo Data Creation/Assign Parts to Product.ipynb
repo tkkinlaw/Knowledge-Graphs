{
 "cells": [
  {
   "cell_type": "markdown",
   "metadata": {},
   "source": [
    "1. Get a dictionary of the Processing Plants and the part created\n",
    "2. Get a dictionary of the Products and the parts used."
   ]
  },
  {
   "cell_type": "code",
   "execution_count": 5,
   "metadata": {},
   "outputs": [],
   "source": [
    "import arcpy\n",
    "import pandas as pd\n",
    "import arcgis\n",
    "from pprint import pprint\n",
    "import random\n",
    "import os"
   ]
  },
  {
   "cell_type": "code",
   "execution_count": 6,
   "metadata": {},
   "outputs": [],
   "source": [
    "gdb = r\"C:\\DemoData\\KNOW\\SupplyChain\\SupplyChain.gdb\"\n",
    "pplants = \"ProcessingPlants\"\n",
    "products = \"Products\"\n",
    "pplantPath = os.path.join(gdb, pplants)\n",
    "productsPath = os.path.join(gdb, products)"
   ]
  },
  {
   "cell_type": "code",
   "execution_count": 7,
   "metadata": {},
   "outputs": [
    {
     "data": {
      "text/html": [
       "<div>\n",
       "<style scoped>\n",
       "    .dataframe tbody tr th:only-of-type {\n",
       "        vertical-align: middle;\n",
       "    }\n",
       "\n",
       "    .dataframe tbody tr th {\n",
       "        vertical-align: top;\n",
       "    }\n",
       "\n",
       "    .dataframe thead th {\n",
       "        text-align: right;\n",
       "    }\n",
       "</style>\n",
       "<table border=\"1\" class=\"dataframe\">\n",
       "  <thead>\n",
       "    <tr style=\"text-align: right;\">\n",
       "      <th></th>\n",
       "      <th>OBJECTID</th>\n",
       "      <th>X_WGS1984</th>\n",
       "      <th>Y_WGS1984</th>\n",
       "      <th>Type</th>\n",
       "      <th>Name</th>\n",
       "      <th>Material</th>\n",
       "      <th>Part</th>\n",
       "      <th>Distributors</th>\n",
       "      <th>PlantID</th>\n",
       "      <th>SHAPE</th>\n",
       "    </tr>\n",
       "  </thead>\n",
       "  <tbody>\n",
       "    <tr>\n",
       "      <th>0</th>\n",
       "      <td>1</td>\n",
       "      <td>-117.125496</td>\n",
       "      <td>32.761458</td>\n",
       "      <td>Processing Plant</td>\n",
       "      <td>Plant 1</td>\n",
       "      <td>Metals, Plastics</td>\n",
       "      <td>Part 1</td>\n",
       "      <td>Distributor 2, Distributor 4, Distributor 9, D...</td>\n",
       "      <td>1</td>\n",
       "      <td>{\"x\": -117.12549565567934, \"y\": 32.76145804719...</td>\n",
       "    </tr>\n",
       "    <tr>\n",
       "      <th>1</th>\n",
       "      <td>2</td>\n",
       "      <td>29.006001</td>\n",
       "      <td>41.066001</td>\n",
       "      <td>Processing Plant</td>\n",
       "      <td>Plant 2</td>\n",
       "      <td>Aluminum, Plastics, Steel, Metals</td>\n",
       "      <td>Part 2</td>\n",
       "      <td>Distributor 6, Distributor 10, Distributor 12,...</td>\n",
       "      <td>2</td>\n",
       "      <td>{\"x\": 29.00600140272212, \"y\": 41.0660009628414...</td>\n",
       "    </tr>\n",
       "    <tr>\n",
       "      <th>2</th>\n",
       "      <td>3</td>\n",
       "      <td>72.826002</td>\n",
       "      <td>19.077003</td>\n",
       "      <td>Processing Plant</td>\n",
       "      <td>Plant 3</td>\n",
       "      <td>Plastics, Steel, Metals</td>\n",
       "      <td>Part 3</td>\n",
       "      <td>Distributor 6, Distributor 10, Distributor 12,...</td>\n",
       "      <td>3</td>\n",
       "      <td>{\"x\": 72.82600233462313, \"y\": 19.0770029830576...</td>\n",
       "    </tr>\n",
       "    <tr>\n",
       "      <th>3</th>\n",
       "      <td>4</td>\n",
       "      <td>90.407142</td>\n",
       "      <td>23.709915</td>\n",
       "      <td>Processing Plant</td>\n",
       "      <td>Plant 4</td>\n",
       "      <td>Steel, Plastics</td>\n",
       "      <td>Part 4</td>\n",
       "      <td>Distributor 2, Distributor 4, Distributor 9, D...</td>\n",
       "      <td>4</td>\n",
       "      <td>{\"x\": 90.40714232325718, \"y\": 23.7099149438166...</td>\n",
       "    </tr>\n",
       "    <tr>\n",
       "      <th>4</th>\n",
       "      <td>5</td>\n",
       "      <td>120.165003</td>\n",
       "      <td>30.252996</td>\n",
       "      <td>Processing Plant</td>\n",
       "      <td>Plant 5</td>\n",
       "      <td>Plastics, Aluminum</td>\n",
       "      <td>Part 5</td>\n",
       "      <td>Distributor 1, Distributor 3, Distributor 7, D...</td>\n",
       "      <td>5</td>\n",
       "      <td>{\"x\": 120.16500334735883, \"y\": 30.252996010603...</td>\n",
       "    </tr>\n",
       "  </tbody>\n",
       "</table>\n",
       "</div>"
      ],
      "text/plain": [
       "   OBJECTID   X_WGS1984  Y_WGS1984              Type     Name  \\\n",
       "0         1 -117.125496  32.761458  Processing Plant  Plant 1   \n",
       "1         2   29.006001  41.066001  Processing Plant  Plant 2   \n",
       "2         3   72.826002  19.077003  Processing Plant  Plant 3   \n",
       "3         4   90.407142  23.709915  Processing Plant  Plant 4   \n",
       "4         5  120.165003  30.252996  Processing Plant  Plant 5   \n",
       "\n",
       "                            Material    Part  \\\n",
       "0                   Metals, Plastics  Part 1   \n",
       "1  Aluminum, Plastics, Steel, Metals  Part 2   \n",
       "2            Plastics, Steel, Metals  Part 3   \n",
       "3                    Steel, Plastics  Part 4   \n",
       "4                 Plastics, Aluminum  Part 5   \n",
       "\n",
       "                                        Distributors PlantID  \\\n",
       "0  Distributor 2, Distributor 4, Distributor 9, D...       1   \n",
       "1  Distributor 6, Distributor 10, Distributor 12,...       2   \n",
       "2  Distributor 6, Distributor 10, Distributor 12,...       3   \n",
       "3  Distributor 2, Distributor 4, Distributor 9, D...       4   \n",
       "4  Distributor 1, Distributor 3, Distributor 7, D...       5   \n",
       "\n",
       "                                               SHAPE  \n",
       "0  {\"x\": -117.12549565567934, \"y\": 32.76145804719...  \n",
       "1  {\"x\": 29.00600140272212, \"y\": 41.0660009628414...  \n",
       "2  {\"x\": 72.82600233462313, \"y\": 19.0770029830576...  \n",
       "3  {\"x\": 90.40714232325718, \"y\": 23.7099149438166...  \n",
       "4  {\"x\": 120.16500334735883, \"y\": 30.252996010603...  "
      ]
     },
     "execution_count": 7,
     "metadata": {},
     "output_type": "execute_result"
    }
   ],
   "source": [
    "sdf = pd.DataFrame.spatial.from_featureclass(pplantPath)\n",
    "sdf.head(5)"
   ]
  },
  {
   "cell_type": "code",
   "execution_count": 22,
   "metadata": {},
   "outputs": [
    {
     "name": "stdout",
     "output_type": "stream",
     "text": [
      "Part 1\n",
      "Part 2\n",
      "Part 3\n",
      "Part 4\n",
      "Part 5\n",
      "Part 6\n",
      "Part 7\n",
      "{'Plant 1': 'Part 1', 'Plant 2': 'Part 2', 'Plant 3': 'Part 3', 'Plant 4': 'Part 4', 'Plant 5': 'Part 5', 'Plant 6': 'Part 6', 'Plant 7': 'Part 7'}\n"
     ]
    }
   ],
   "source": [
    "partsFromPlant = {}\n",
    "parts = list(sdf['Part'].unique())\n",
    "for part in parts:\n",
    "    pplant = list(sdf.loc[sdf['Part'] == part]['Name'])[0]\n",
    "    partsFromPlant[pplant]=part\n",
    "print(partsFromPlant)"
   ]
  },
  {
   "cell_type": "code",
   "execution_count": null,
   "metadata": {},
   "outputs": [],
   "source": [
    "companyList = [\"\"]\n",
    "uCur = arcpy.da.UpdateCursor(productsPath,[\"ProductName\",\"Parts\",\"Company\",\"MSRP\"])\n",
    "i=0\n",
    "for row in uCur:\n",
    "    row[0] = f\"Product {i}\"\n",
    "    i+=1\n",
    "    #row[1] = random.choice(dict[row[0]])\n",
    "    #print(row)\n",
    "    #uCur.updateRow(row)\n",
    "del uCur"
   ]
  },
  {
   "cell_type": "code",
   "execution_count": 26,
   "metadata": {},
   "outputs": [
    {
     "ename": "ModuleNotFoundError",
     "evalue": "No module named 'faker'",
     "output_type": "error",
     "traceback": [
      "\u001b[1;31m---------------------------------------------------------------------------\u001b[0m",
      "\u001b[1;31mModuleNotFoundError\u001b[0m                       Traceback (most recent call last)",
      "\u001b[1;32m~\\AppData\\Local\\Temp\\2\\ipykernel_18504\\3677883116.py\u001b[0m in \u001b[0;36m<cell line: 1>\u001b[1;34m()\u001b[0m\n\u001b[1;32m----> 1\u001b[1;33m \u001b[1;32mfrom\u001b[0m \u001b[0mfaker\u001b[0m \u001b[1;32mimport\u001b[0m \u001b[0mFaker\u001b[0m\u001b[1;33m\u001b[0m\u001b[1;33m\u001b[0m\u001b[0m\n\u001b[0m\u001b[0;32m      2\u001b[0m \u001b[1;33m\u001b[0m\u001b[0m\n\u001b[0;32m      3\u001b[0m \u001b[0mfake\u001b[0m \u001b[1;33m=\u001b[0m \u001b[0mFaker\u001b[0m\u001b[1;33m(\u001b[0m\u001b[1;33m)\u001b[0m\u001b[1;33m\u001b[0m\u001b[1;33m\u001b[0m\u001b[0m\n\u001b[0;32m      4\u001b[0m \u001b[1;33m\u001b[0m\u001b[0m\n\u001b[0;32m      5\u001b[0m \u001b[1;32mdef\u001b[0m \u001b[0mgenerate_company_name\u001b[0m\u001b[1;33m(\u001b[0m\u001b[1;33m)\u001b[0m\u001b[1;33m:\u001b[0m\u001b[1;33m\u001b[0m\u001b[1;33m\u001b[0m\u001b[0m\n",
      "\u001b[1;31mModuleNotFoundError\u001b[0m: No module named 'faker'"
     ]
    }
   ],
   "source": [
    "from faker import Faker\n",
    "\n",
    "fake = Faker()\n",
    "\n",
    "def generate_company_name():\n",
    "    return fake.company()\n",
    "\n",
    "# Generate 10 random company names\n",
    "for _ in range(10):\n",
    "    print(generate_company_name())\n"
   ]
  },
  {
   "cell_type": "code",
   "execution_count": 24,
   "metadata": {},
   "outputs": [
    {
     "name": "stdout",
     "output_type": "stream",
     "text": [
      "Defaulting to user installation because normal site-packages is not writeable\n",
      "Collecting faker\n",
      "  Obtaining dependency information for faker from https://files.pythonhosted.org/packages/ff/7c/087b2d78a49c40b5db2977818672e2ef6550426255ea7120a47c95302771/Faker-22.2.0-py3-none-any.whl.metadata\n",
      "  Downloading Faker-22.2.0-py3-none-any.whl.metadata (15 kB)\n",
      "Requirement already satisfied: python-dateutil>=2.4 in c:\\program files\\arcgis\\pro\\bin\\python\\envs\\arcgispro-py3\\lib\\site-packages (from faker) (2.8.2)\n",
      "Requirement already satisfied: six>=1.5 in c:\\program files\\arcgis\\pro\\bin\\python\\envs\\arcgispro-py3\\lib\\site-packages (from python-dateutil>=2.4->faker) (1.16.0)\n",
      "Downloading Faker-22.2.0-py3-none-any.whl (1.7 MB)\n",
      "   ---------------------------------------- 1.7/1.7 MB 7.9 MB/s eta 0:00:00\n",
      "Installing collected packages: faker\n",
      "Successfully installed faker-22.2.0\n"
     ]
    },
    {
     "name": "stderr",
     "output_type": "stream",
     "text": [
      "  WARNING: The script faker.exe is installed in 'C:\\Users\\student\\AppData\\Roaming\\Python\\Python39\\Scripts' which is not on PATH.\n",
      "  Consider adding this directory to PATH or, if you prefer to suppress this warning, use --no-warn-script-location.\n"
     ]
    }
   ],
   "source": [
    "!pip install faker"
   ]
  },
  {
   "cell_type": "code",
   "execution_count": null,
   "metadata": {},
   "outputs": [],
   "source": []
  }
 ],
 "metadata": {
  "kernelspec": {
   "display_name": "Python 3",
   "language": "python",
   "name": "python3"
  },
  "language_info": {
   "codemirror_mode": {
    "name": "ipython",
    "version": 3
   },
   "file_extension": ".py",
   "mimetype": "text/x-python",
   "name": "python",
   "nbconvert_exporter": "python",
   "pygments_lexer": "ipython3",
   "version": "3.9.18"
  }
 },
 "nbformat": 4,
 "nbformat_minor": 2
}
