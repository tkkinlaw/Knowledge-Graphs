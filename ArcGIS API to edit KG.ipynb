{
 "cells": [
  {
   "cell_type": "code",
   "execution_count": null,
   "metadata": {},
   "outputs": [],
   "source": [
    "import arcpy\n",
    "from arcgis.gis import GIS\n",
    "from arcgis.graph import KnowledgeGraph\n",
    "import os\n",
    "import json\n",
    "from datetime import datetime\n",
    "from uuid import UUID\n",
    "from pprint import pprint"
   ]
  },
  {
   "cell_type": "markdown",
   "metadata": {},
   "source": [
    "### Connect"
   ]
  },
  {
   "cell_type": "code",
   "execution_count": null,
   "metadata": {},
   "outputs": [],
   "source": [
    "username = \"analyst\"\n",
    "password = \"Esri.4.GIS\"\n",
    "url = \"https://ebase.ad.local/server/rest/services/Hosted/SupplyChain/KnowledgeGraphServer\"\n",
    "gis = GIS(r\"https://ebase.ad.local/portal\", username, password)\n",
    "knowledge_graph = KnowledgeGraph(url=url, gis=gis)\n",
    "knowledge_graph"
   ]
  },
  {
   "cell_type": "markdown",
   "metadata": {},
   "source": [
    "### Query"
   ]
  },
  {
   "cell_type": "code",
   "execution_count": 1,
   "metadata": {},
   "outputs": [],
   "source": [
    "def createRelationships(queryResults):\n",
    "    for p, d in queryResults:\n",
    "        print(\"Related nodes:\")\n",
    "        print(p['_properties']['PlantName'])\n",
    "        print(p['_id'])\n",
    "        print(p['_properties']['Material'])\n",
    "        print(d['_properties']['DistributorName'])\n",
    "        print(d['_id'])\n",
    "        print(d['_properties']['Material'])\n",
    "        print()\n",
    "        add_relationship = {\n",
    "            \"_objectType\": \"relationship\",\n",
    "            \"_typeName\": \"SellsTo\",\n",
    "            \"_originEntityId\": UUID(f\"{d['_id']}\"), # Distributor ID\n",
    "            \"_destinationEntityId\": UUID(f\"{p['_id']}\") # Plant ID\n",
    "        }\n",
    "        print(add_relationship)\n",
    "        knowledge_graph.apply_edits(adds=[add_relationship])\n",
    "        print(\"EDITS MADE\")\n",
    "    print(\"All done!\")"
   ]
  },
  {
   "cell_type": "code",
   "execution_count": null,
   "metadata": {},
   "outputs": [],
   "source": [
    "def submitQuery(distributorName):\n",
    "    opQuery = \"\"\"MATCH (p:ProcessingPlant)\n",
    "    WHERE any(name in split(p.Distributors, \", \") WHERE name = \"{0}\")\n",
    "    MATCH (d:Distributor)\n",
    "    WHERE d.DistributorName = \"Distributor 2\"\n",
    "    RETURN p, d\"\"\".format(distributorName)\n",
    "    print(opQuery)\n",
    "\n",
    "    queryResults = knowledge_graph.query(opQuery)\n",
    "    return queryResults"
   ]
  },
  {
   "cell_type": "code",
   "execution_count": null,
   "metadata": {},
   "outputs": [],
   "source": [
    "queryNodes =submitQuery(\"Distributor 2\")\n",
    "createRelationships(queryNodes)"
   ]
  }
 ],
 "metadata": {
  "kernelspec": {
   "display_name": "Python 3",
   "language": "python",
   "name": "python3"
  },
  "language_info": {
   "codemirror_mode": {
    "name": "ipython",
    "version": 3
   },
   "file_extension": ".py",
   "mimetype": "text/x-python",
   "name": "python",
   "nbconvert_exporter": "python",
   "pygments_lexer": "ipython3",
   "version": "3.9.18"
  }
 },
 "nbformat": 4,
 "nbformat_minor": 2
}
