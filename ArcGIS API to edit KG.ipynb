{
 "cells": [
  {
   "cell_type": "code",
   "execution_count": 7,
   "metadata": {},
   "outputs": [],
   "source": [
    "import arcpy\n",
    "from arcgis.gis import GIS\n",
    "from arcgis.graph import KnowledgeGraph\n",
    "import os\n",
    "import json\n",
    "from datetime import datetime\n",
    "from uuid import UUID\n",
    "from pprint import pprint"
   ]
  },
  {
   "cell_type": "markdown",
   "metadata": {},
   "source": [
    "### Connect"
   ]
  },
  {
   "cell_type": "code",
   "execution_count": 8,
   "metadata": {},
   "outputs": [
    {
     "data": {
      "text/plain": [
       "<arcgis.graph._service.KnowledgeGraph at 0x2249aa7a490>"
      ]
     },
     "execution_count": 8,
     "metadata": {},
     "output_type": "execute_result"
    }
   ],
   "source": [
    "username = \"analyst\"\n",
    "password = \"Esri.4.GIS\"\n",
    "url = \"https://ebase.ad.local/server/rest/services/Hosted/SupplyChain/KnowledgeGraphServer\"\n",
    "gis = GIS(r\"https://ebase.ad.local/portal\", username, password)\n",
    "knowledge_graph = KnowledgeGraph(url=url, gis=gis)\n",
    "knowledge_graph"
   ]
  },
  {
   "cell_type": "markdown",
   "metadata": {},
   "source": [
    "### Query"
   ]
  },
  {
   "cell_type": "code",
   "execution_count": 9,
   "metadata": {},
   "outputs": [
    {
     "name": "stdout",
     "output_type": "stream",
     "text": [
      "MATCH (p:ProcessingPlant)\n",
      "WHERE any(name in split(p.Distributors, \", \") WHERE name = \"Distributor 2\")\n",
      "MATCH (d:Distributor)\n",
      "WHERE d.DistributorName = \"Distributor 2\"\n",
      "RETURN p, d\n"
     ]
    }
   ],
   "source": [
    "opQuery = \"\"\"MATCH (p:ProcessingPlant)\n",
    "WHERE any(name in split(p.Distributors, \", \") WHERE name = \"Distributor 2\")\n",
    "MATCH (d:Distributor)\n",
    "WHERE d.DistributorName = \"Distributor 2\"\n",
    "RETURN p, d\"\"\"\n",
    "print(opQuery)\n",
    "\n",
    "queryResults = knowledge_graph.query(opQuery)"
   ]
  },
  {
   "cell_type": "code",
   "execution_count": 12,
   "metadata": {},
   "outputs": [
    {
     "name": "stdout",
     "output_type": "stream",
     "text": [
      "Related nodes:\n",
      "Plant 1\n",
      "84af1275-b647-4b97-aa4c-e22727b53112\n",
      "Metals, Plastics\n",
      "Distributor 2\n",
      "f3d764c6-1b26-4398-9631-5dfe6239767a\n",
      "Plastics\n",
      "\n",
      "{'_objectType': 'relationship', '_typeName': 'SellsTo', '_originEntityId': UUID('f3d764c6-1b26-4398-9631-5dfe6239767a'), '_destinationEntityId': UUID('84af1275-b647-4b97-aa4c-e22727b53112')}\n",
      "EDITS MADE\n",
      "Related nodes:\n",
      "Plant 4\n",
      "19d0b2a1-4405-4f35-ae69-8ac3537acb76\n",
      "Steel, Plastics\n",
      "Distributor 2\n",
      "f3d764c6-1b26-4398-9631-5dfe6239767a\n",
      "Plastics\n",
      "\n",
      "{'_objectType': 'relationship', '_typeName': 'SellsTo', '_originEntityId': UUID('f3d764c6-1b26-4398-9631-5dfe6239767a'), '_destinationEntityId': UUID('19d0b2a1-4405-4f35-ae69-8ac3537acb76')}\n",
      "EDITS MADE\n",
      "Related nodes:\n",
      "Plant 6\n",
      "71a170ee-8a84-4839-abe4-14ced859bbf5\n",
      "Metals, Aluminum, Steel, Plastics\n",
      "Distributor 2\n",
      "f3d764c6-1b26-4398-9631-5dfe6239767a\n",
      "Plastics\n",
      "\n",
      "{'_objectType': 'relationship', '_typeName': 'SellsTo', '_originEntityId': UUID('f3d764c6-1b26-4398-9631-5dfe6239767a'), '_destinationEntityId': UUID('71a170ee-8a84-4839-abe4-14ced859bbf5')}\n"
     ]
    },
    {
     "name": "stdout",
     "output_type": "stream",
     "text": [
      "EDITS MADE\n",
      "All done!\n"
     ]
    }
   ],
   "source": [
    "\n",
    "\n",
    "def createRelationships():\n",
    "    for p, d in queryResults:\n",
    "            print(\"Related nodes:\")\n",
    "            print(p['_properties']['PlantName'])\n",
    "            print(p['_id'])\n",
    "            print(p['_properties']['Material'])\n",
    "            print(d['_properties']['DistributorName'])\n",
    "            print(d['_id'])\n",
    "            print(d['_properties']['Material'])\n",
    "            print()\n",
    "            add_relationship = {\n",
    "                \"_objectType\": \"relationship\",\n",
    "                \"_typeName\": \"SellsTo\",\n",
    "                \"_originEntityId\": UUID(f\"{d['_id']}\"), # Distributor ID\n",
    "                \"_destinationEntityId\": UUID(f\"{p['_id']}\") # Plant ID\n",
    "            }\n",
    "            print(add_relationship)\n",
    "            knowledge_graph.apply_edits(adds=[add_relationship])\n",
    "            print(\"EDITS MADE\")\n",
    "        print(\"All done!\")"
   ]
  },
  {
   "cell_type": "code",
   "execution_count": null,
   "metadata": {},
   "outputs": [],
   "source": []
  }
 ],
 "metadata": {
  "kernelspec": {
   "display_name": "Python 3",
   "language": "python",
   "name": "python3"
  },
  "language_info": {
   "codemirror_mode": {
    "name": "ipython",
    "version": 3
   },
   "file_extension": ".py",
   "mimetype": "text/x-python",
   "name": "python",
   "nbconvert_exporter": "python",
   "pygments_lexer": "ipython3",
   "version": "3.9.18"
  }
 },
 "nbformat": 4,
 "nbformat_minor": 2
}
