{
 "cells": [
  {
   "cell_type": "code",
   "execution_count": null,
   "id": "56c4cfc8",
   "metadata": {},
   "outputs": [],
   "source": [
    "import arcgis\n",
    "from arcgis.gis import GIS\n",
    "from getpass import getpass"
   ]
  },
  {
   "cell_type": "code",
   "execution_count": null,
   "id": "d51f1e55",
   "metadata": {},
   "outputs": [],
   "source": [
    "entPW = getpass()"
   ]
  },
  {
   "cell_type": "code",
   "execution_count": 14,
   "id": "3b3e6d69",
   "metadata": {},
   "outputs": [
    {
     "name": "stderr",
     "output_type": "stream",
     "text": [
      "Setting `verify_cert` to False is a security risk, use at your own risk.\n"
     ]
    }
   ],
   "source": [
    "gis = GIS('https://ebase.ad.local/portal/home', 'tkinlaw_ent', pw, verify_cert=False)"
   ]
  },
  {
   "cell_type": "code",
   "execution_count": 26,
   "id": "43f7934e",
   "metadata": {},
   "outputs": [
    {
     "name": "stdout",
     "output_type": "stream",
     "text": [
      "None\n"
     ]
    }
   ],
   "source": [
    "searchRes = gis.content.get('2b93b06dc0dc4e809d3c8db5cb96ba69')\n",
    "print(searchRes)"
   ]
  },
  {
   "cell_type": "code",
   "execution_count": null,
   "id": "a0a4ce2f",
   "metadata": {},
   "outputs": [],
   "source": []
  }
 ],
 "metadata": {
  "kernelspec": {
   "display_name": "arcgispro-py3",
   "language": "python",
   "name": "python3"
  },
  "language_info": {
   "codemirror_mode": {
    "name": "ipython",
    "version": 3
   },
   "file_extension": ".py",
   "mimetype": "text/x-python",
   "name": "python",
   "nbconvert_exporter": "python",
   "pygments_lexer": "ipython3",
   "version": "3.11.11"
  }
 },
 "nbformat": 4,
 "nbformat_minor": 5
}
