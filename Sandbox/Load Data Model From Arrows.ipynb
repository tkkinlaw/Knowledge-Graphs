{
 "cells": [
  {
   "cell_type": "code",
   "execution_count": 12,
   "metadata": {},
   "outputs": [],
   "source": [
    "from arcgis.gis import GIS\n",
    "from arcgis.graph import KnowledgeGraph\n",
    "\n",
    "gis = GIS(\"Home\")\n",
    "kg = KnowledgeGraph(\"https://engt-ag-srv04.esri.com/server/rest/services/Hosted/arrows/KnowledgeGraphServer\", gis=gis)"
   ]
  },
  {
   "cell_type": "code",
   "execution_count": 13,
   "metadata": {},
   "outputs": [],
   "source": [
    "import json\n",
    "f = open(r'D:\\Demo\\Knowledge\\Arrows\\TimGraphJSON.json')\n",
    "data = json.load(f)\n",
    "f.close() "
   ]
  },
  {
   "cell_type": "code",
   "execution_count": 44,
   "metadata": {},
   "outputs": [
    {
     "name": "stdout",
     "output_type": "stream",
     "text": [
      "[{'name': 'Vehicle', 'alias': 'Vehicle', 'role': 'esriGraphNamedObjectRegular', 'strict': False, 'properties': {'Make': {'name': 'Make', 'role': 'esriGraphPropertyRegular'}}}, {'name': 'Person', 'alias': 'Person', 'role': 'esriGraphNamedObjectRegular', 'strict': False, 'properties': {'Name': {'name': 'Name', 'role': 'esriGraphPropertyRegular'}}}, {'name': 'Address', 'alias': 'Address', 'role': 'esriGraphNamedObjectRegular', 'strict': False, 'properties': {'Name': {'name': 'Name', 'role': 'esriGraphPropertyRegular'}}}]\n",
      "{'entityAddResults': [{'name': 'Vehicle'}, {'name': 'Person'}, {'name': 'Address'}], 'relationshipAddResults': []}\n"
     ]
    }
   ],
   "source": [
    "adds = []\n",
    "for i in data['nodes']:\n",
    "    attributes = {\n",
    "                \"name\": i['labels'][0],\n",
    "                \"alias\": i['labels'][0],\n",
    "                \"role\": \"esriGraphNamedObjectRegular\",\n",
    "                \"strict\": False,\n",
    "                \"properties\": {}\n",
    "    }\n",
    "    for prop in i['properties']:\n",
    "        if prop != '':\n",
    "            if prop != 'Spatial':\n",
    "                attributes[\"properties\"][prop] = {\n",
    "                                \"name\": prop,\n",
    "                                \"role\": \"esriGraphPropertyRegular\"\n",
    "                                }\n",
    "            else:\n",
    "                if i['properties']['Spatial'] == 'point':\n",
    "                    attributes[\"properties\"][\"shape\"] = {\n",
    "                    \"name\": \"shape\",\n",
    "                    \"alias\": \"shape\",\n",
    "                    \"fieldType\": \"esriFieldTypeGeometry\",\n",
    "                    \"geometryType\": \"esriGeometryPoint\",\n",
    "                    \"hasZ\": False,\n",
    "                    \"hasM\": False,\n",
    "                    \"editable\": True,\n",
    "                    \"visible\": True,\n",
    "                    \"required\": False,\n",
    "                    \"isSystemMaintained\": False,\n",
    "                    \"role\": \"esriGraphPropertyRegular\"\n",
    "                }\n",
    "    adds.append(attributes)\n",
    "result = kg.named_object_type_adds(entity_types=adds)\n",
    "print(result)"
   ]
  },
  {
   "cell_type": "code",
   "execution_count": 60,
   "metadata": {},
   "outputs": [
    {
     "name": "stdout",
     "output_type": "stream",
     "text": [
      "{'entityAddResults': [], 'relationshipAddResults': [{'name': 'lives_at'}, {'name': 'Owns'}]}\n"
     ]
    }
   ],
   "source": [
    "relationshipsToAdd = []\n",
    "for i in data['relationships']:\n",
    "    \n",
    "    attributes = {\n",
    "                \"name\": i['type'],\n",
    "                \"alias\": i['type'],\n",
    "                \"role\": \"esriGraphNamedObjectRegular\",\n",
    "                \"strict\": False,\n",
    "                \"properties\": {}\n",
    "    }\n",
    "        \n",
    "    for prop in i['properties']:\n",
    "        if prop != '':\n",
    "            if prop != 'Spatial':\n",
    "                attributes[\"properties\"][prop] = {\n",
    "                                \"name\": prop,\n",
    "                                \"role\": \"esriGraphPropertyRegular\"\n",
    "                                }\n",
    "            \n",
    "    relationshipsToAdd.append(attributes)\n",
    "    \n",
    "result = kg.named_object_type_adds(relationship_types=relationshipsToAdd)\n",
    "print(result)    "
   ]
  },
  {
   "cell_type": "code",
   "execution_count": null,
   "metadata": {},
   "outputs": [],
   "source": []
  }
 ],
 "metadata": {
  "kernelspec": {
   "display_name": "ArcGISPro",
   "language": "Python",
   "name": "python3"
  },
  "language_info": {
   "file_extension": ".py",
   "name": "python",
   "version": "3"
  }
 },
 "nbformat": 4,
 "nbformat_minor": 2
}
