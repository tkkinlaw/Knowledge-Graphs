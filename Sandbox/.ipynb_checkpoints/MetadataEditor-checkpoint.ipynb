{
 "cells": [
  {
   "cell_type": "code",
   "execution_count": null,
   "metadata": {},
   "outputs": [],
   "source": [
    "import arcpy\n",
    "from arcpy import metadata as md"
   ]
  },
  {
   "cell_type": "code",
   "execution_count": null,
   "metadata": {},
   "outputs": [],
   "source": [
    "#limitations = r'C:/Users/jord8049/Downloads/limitationspng.xml'\n",
    "#events32 = r'C:/Users/jord8049/Downloads/IndoorsFeatures/IndoorsFeatures/PNG Images/Events/events-32.png'\n",
    "#tgt_item_md = md.Metadata(events32)\n",
    "\n",
    "#tgt_item_md.importMetadata(limitations)\n",
    "#tgt_item_md.save()\n",
    "\n",
    "xml_file_path = r\"C:\\Users\\student\\Downloads\\baseMetadata.xml\"\n",
    "icon_metadata = md.Metadata(xml_file_path)"
   ]
  },
  {
   "cell_type": "code",
   "execution_count": null,
   "metadata": {},
   "outputs": [],
   "source": [
    "# = r'C:/Users/jord8049/Downloads/IndoorsFeatures/IndoorsFeatures/PNG Images/Events/events-32.png'\n",
    "arcpy.env.workspace = \"C:/Users/jord8049/Downloads/IndoorsFeatures/IndoorsFeatures/PNG images/Events\""
   ]
  },
  {
   "cell_type": "code",
   "execution_count": null,
   "metadata": {},
   "outputs": [],
   "source": [
    "#Looping\n",
    "datasetlist = arcpy.ListDatasets()\n",
    "for dataset in datasetlist:\n",
    "    icon_metadata = md.Metadata(dataset)\n",
    "    icon_metadata.importMetadata(xml_file_path)\n",
    "    icon_metadata.save()\n",
    "    print(dataset)\n",
    "\n",
    "#tgt_item_md = md.Metadata(events32)\n",
    "\n",
    "#tgt_item_md.importMetadata(limitations)\n",
    "#tgt_item_md.save()\n"
   ]
  }
 ],
 "metadata": {
  "kernelspec": {
   "display_name": "ArcGISPro",
   "language": "Python",
   "name": "python3"
  },
  "language_info": {
   "file_extension": ".py",
   "name": "python",
   "version": "3"
  }
 },
 "nbformat": 4,
 "nbformat_minor": 2
}
