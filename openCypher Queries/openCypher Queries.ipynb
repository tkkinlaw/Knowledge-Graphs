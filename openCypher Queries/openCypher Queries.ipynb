{
 "cells": [
  {
   "cell_type": "markdown",
   "metadata": {},
   "source": [
    "This code returns the distributor(s) with the name: Distributor 2"
   ]
  },
  {
   "cell_type": "code",
   "execution_count": null,
   "metadata": {
    "vscode": {
     "languageId": "cypher"
    }
   },
   "outputs": [],
   "source": [
    "MATCH (d:Distributor {DistributorName: 'Distributor 2'}) RETURN d"
   ]
  },
  {
   "cell_type": "markdown",
   "metadata": {},
   "source": [
    "This is a substring query. If a property contains these values, return it."
   ]
  },
  {
   "cell_type": "code",
   "execution_count": null,
   "metadata": {
    "vscode": {
     "languageId": "cypher"
    }
   },
   "outputs": [],
   "source": [
    "MATCH (p:ProcessingPlant) \n",
    "WHERE p.Distributors CONTAINS \"2\" \n",
    "RETURN p"
   ]
  },
  {
   "cell_type": "markdown",
   "metadata": {},
   "source": [
    "Return all nodes of an entity type"
   ]
  },
  {
   "cell_type": "code",
   "execution_count": null,
   "metadata": {
    "vscode": {
     "languageId": "cypher"
    }
   },
   "outputs": [],
   "source": [
    "MATCH (p:ProcessingPlant)\n",
    "RETURN p"
   ]
  },
  {
   "cell_type": "markdown",
   "metadata": {},
   "source": [
    "Return all nodes of two entity types"
   ]
  },
  {
   "cell_type": "code",
   "execution_count": null,
   "metadata": {
    "vscode": {
     "languageId": "cypher"
    }
   },
   "outputs": [],
   "source": [
    "MATCH (p:ProcessingPlant)\n",
    "MATCH (d:Distributor)\n",
    "RETURN p, d"
   ]
  },
  {
   "cell_type": "code",
   "execution_count": null,
   "metadata": {
    "vscode": {
     "languageId": "cypher"
    }
   },
   "outputs": [],
   "source": [
    "MATCH (p:ProcessingPlant)\n",
    "UNWIND split(p.Distributors, ',') AS distributor\n",
    "WITH replace(distributor, ' D','D') AS d\n",
    "WHERE 'Distributor 2' IN COLLECT { MATCH d RETURN p.PlantName }"
   ]
  },
  {
   "cell_type": "markdown",
   "metadata": {},
   "source": []
  },
  {
   "cell_type": "code",
   "execution_count": null,
   "metadata": {
    "vscode": {
     "languageId": "cypher"
    }
   },
   "outputs": [],
   "source": [
    "MATCH (p:ProcessingPlant)\n",
    "UNWIND split(p.Distributors, ',') AS distributor\n",
    "WITH ltrim(right(distributor, 2)) AS d\n",
    "RETURN d\n"
   ]
  }
 ],
 "metadata": {
  "language_info": {
   "name": "python"
  }
 },
 "nbformat": 4,
 "nbformat_minor": 2
}
