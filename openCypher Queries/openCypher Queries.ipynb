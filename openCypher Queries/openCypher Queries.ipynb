{
 "cells": [
  {
   "cell_type": "markdown",
   "metadata": {},
   "source": [
    "This code returns the distributor(s) with the name: Distributor 2"
   ]
  },
  {
   "cell_type": "code",
   "execution_count": null,
   "metadata": {
    "vscode": {
     "languageId": "cypher"
    }
   },
   "outputs": [],
   "source": [
    "MATCH (d:Distributor {DistributorName: 'Distributor 2'}) RETURN d"
   ]
  },
  {
   "cell_type": "markdown",
   "metadata": {},
   "source": [
    "This is a substring query. If a property contains these values, return it."
   ]
  },
  {
   "cell_type": "code",
   "execution_count": null,
   "metadata": {
    "vscode": {
     "languageId": "cypher"
    }
   },
   "outputs": [],
   "source": [
    "MATCH (p:ProcessingPlant) \n",
    "WHERE p.Distributors CONTAINS \"2\" \n",
    "RETURN p"
   ]
  },
  {
   "cell_type": "markdown",
   "metadata": {},
   "source": [
    "Return all nodes of an entity type"
   ]
  },
  {
   "cell_type": "code",
   "execution_count": null,
   "metadata": {
    "vscode": {
     "languageId": "cypher"
    }
   },
   "outputs": [],
   "source": [
    "MATCH (p:ProcessingPlant)\n",
    "RETURN p"
   ]
  },
  {
   "cell_type": "markdown",
   "metadata": {},
   "source": [
    "Return all nodes of two entity types"
   ]
  },
  {
   "cell_type": "code",
   "execution_count": null,
   "metadata": {
    "vscode": {
     "languageId": "cypher"
    }
   },
   "outputs": [],
   "source": [
    "MATCH (p:ProcessingPlant)\n",
    "MATCH (d:Distributor)\n",
    "RETURN p, d"
   ]
  },
  {
   "cell_type": "markdown",
   "metadata": {},
   "source": [
    "This code returns only the ProcessingPlants that contain the distributor name \"Distributor 2\". As such, we get all the Distributor nodes for each Plant."
   ]
  },
  {
   "cell_type": "code",
   "execution_count": null,
   "metadata": {
    "vscode": {
     "languageId": "cypher"
    }
   },
   "outputs": [],
   "source": [
    "MATCH (p:ProcessingPlant)\n",
    "WHERE any(name in split(p.Distributors, \", \") WHERE name = \"Distributor 2\")\n",
    "MATCH (d:Distributor)\n",
    "RETURN p, d"
   ]
  },
  {
   "cell_type": "markdown",
   "metadata": {},
   "source": [
    "This code takes it further, and returns only the Distributors with the name \"Distributor 2\""
   ]
  },
  {
   "cell_type": "code",
   "execution_count": null,
   "metadata": {
    "vscode": {
     "languageId": "cypher"
    }
   },
   "outputs": [],
   "source": [
    "MATCH (p:ProcessingPlant)\n",
    "WHERE any(name in split(p.Distributors, \", \") WHERE name = \"Distributor 2\")\n",
    "MATCH (d:Distributor)\n",
    "WHERE d.DistributorName = \"Distributor 2\"\n",
    "RETURN p, d"
   ]
  },
  {
   "cell_type": "markdown",
   "metadata": {},
   "source": [
    "In this code sample, I want to check to see if the name \"Distributor 2\" is in the list of distributor names.\n",
    "- The goal is to retrieve the nodes where the Distributors property contains the name of a distributor.\n",
    "- A consideration is that the names are similar. Such as \"Distributor 2\" and \"Distributor 22\".\n",
    "- Break the Distributors property value into a list of just the names. Then evaluate each to make sure you get \"Distributor 2\" and not \"Distributor 22\"."
   ]
  },
  {
   "cell_type": "code",
   "execution_count": null,
   "metadata": {
    "vscode": {
     "languageId": "cypher"
    }
   },
   "outputs": [],
   "source": [
    "MATCH (p:ProcessingPlant)\n",
    "WHERE any(name in split(p.Distributors, \", \") WHERE name = \"Distributor 2\")\n",
    "RETURN p"
   ]
  },
  {
   "cell_type": "markdown",
   "metadata": {},
   "source": [
    "List the types of nodes you want the values of, if the Materials property contains the text \"Plastic\""
   ]
  },
  {
   "cell_type": "code",
   "execution_count": null,
   "metadata": {
    "vscode": {
     "languageId": "cypher"
    }
   },
   "outputs": [],
   "source": [
    "MATCH (s:Suppliers)\n",
    "WHERE s.Material CONTAINS \"Plastic\" \n",
    "MATCH (d:Distributors)\n",
    "WHERE d.Material CONTAINS \"Plastic\"\n",
    "MATCH (p:ProcessingPlants)\n",
    "WHERE p.Material CONTAINS \"Plastic\" \n",
    "RETURN s, d, p"
   ]
  },
  {
   "cell_type": "markdown",
   "metadata": {},
   "source": [
    "## Spatial operators"
   ]
  },
  {
   "cell_type": "markdown",
   "metadata": {},
   "source": [
    "Count how many suppliers are in each country"
   ]
  },
  {
   "cell_type": "code",
   "execution_count": null,
   "metadata": {
    "vscode": {
     "languageId": "cypher"
    }
   },
   "outputs": [],
   "source": [
    "MATCH (s:Supplier), (c:WorldCountries)\n",
    "WHERE esri.graph.ST_Intersects(s.shape, c.shape)\n",
    "WITH c, COUNT(s) as num\n",
    "RETURN c, num"
   ]
  },
  {
   "cell_type": "markdown",
   "metadata": {},
   "source": [
    "Adding </code>, d</code> to the end of the WITH clause splits everything out by each distributor"
   ]
  },
  {
   "cell_type": "code",
   "execution_count": null,
   "metadata": {
    "vscode": {
     "languageId": "cypher"
    }
   },
   "outputs": [],
   "source": [
    "MATCH (s:Supplier)-[:Supplies]-(d:Distributor), (c:WorldCountries)\n",
    "WHERE esri.graph.ST_Intersects(s.shape, c.shape)\n",
    "WITH c, COUNT(s) as num, d\n",
    "RETURN c.CountryName, num"
   ]
  },
  {
   "cell_type": "markdown",
   "metadata": {},
   "source": [
    "Return the suppliers and distributors in each country"
   ]
  },
  {
   "cell_type": "code",
   "execution_count": null,
   "metadata": {
    "vscode": {
     "languageId": "cypher"
    }
   },
   "outputs": [],
   "source": [
    "MATCH (s:Supplier), (c:WorldCountries) \n",
    "WHERE esri.graph.ST_Intersects(s.shape, c.shape)\n",
    "MATCH (d:Distributor)\n",
    "WHERE esri.graph.ST_Intersects(d.shape, c.shape)\n",
    "RETURN c, s, d"
   ]
  },
  {
   "cell_type": "markdown",
   "metadata": {},
   "source": [
    "Return the combinations of supplier, distributors and countries all together."
   ]
  },
  {
   "cell_type": "code",
   "execution_count": null,
   "metadata": {
    "vscode": {
     "languageId": "cypher"
    }
   },
   "outputs": [],
   "source": [
    "MATCH (s:Supplier), (c1:WorldCountries) \n",
    "WHERE esri.graph.ST_Intersects(s.shape, c1.shape)\n",
    "MATCH (d:Distributor), (c2:WorldCountries) \n",
    "WHERE esri.graph.ST_Intersects(d.shape, c2.shape)\n",
    "RETURN c1, s, c2, d"
   ]
  },
  {
   "cell_type": "markdown",
   "metadata": {},
   "source": [
    "Return just strings of this information."
   ]
  },
  {
   "cell_type": "code",
   "execution_count": null,
   "metadata": {
    "vscode": {
     "languageId": "cypher"
    }
   },
   "outputs": [],
   "source": [
    "MATCH (s:Supplier), (c1:WorldCountries) \n",
    "WHERE esri.graph.ST_Intersects(s.shape, c1.shape)\n",
    "MATCH (d:Distributor), (c2:WorldCountries) \n",
    "WHERE esri.graph.ST_Intersects(d.shape, c2.shape)\n",
    "RETURN c1.CountryName as OriginCountry, s.SupplierName as Supplier, c2.CountryName as DestinationCountry, d.DistributorName as Distributor"
   ]
  },
  {
   "cell_type": "markdown",
   "metadata": {},
   "source": [
    "MATCH (s:Supplier), (c1:WorldCountries) \n",
    "WHERE esri.graph.ST_Intersects(s.shape, c1.shape)\n",
    "MATCH (d:Distributor), (c2:WorldCountries) \n",
    "WHERE esri.graph.ST_Intersects(d.shape, c2.shape)\n",
    "RETURN c1.CountryName as OriginCountry, s.SupplierName as Supplier, s.Material as Material, c2.CountryName as DestinationCountry, d.DistributorName as Distributor"
   ]
  }
 ],
 "metadata": {
  "language_info": {
   "name": "python"
  }
 },
 "nbformat": 4,
 "nbformat_minor": 2
}
