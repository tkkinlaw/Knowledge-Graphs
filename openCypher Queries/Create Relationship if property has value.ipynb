{
 "cells": [
  {
   "cell_type": "markdown",
   "metadata": {},
   "source": [
    "This code returns the distributor(s) with the name: Distributor 2"
   ]
  },
  {
   "cell_type": "code",
   "execution_count": null,
   "metadata": {
    "vscode": {
     "languageId": "cypher"
    }
   },
   "outputs": [],
   "source": [
    "MATCH (d:Distributor {DistributorName: 'Distributor 2'}) RETURN d"
   ]
  }
 ],
 "metadata": {
  "language_info": {
   "name": "python"
  }
 },
 "nbformat": 4,
 "nbformat_minor": 2
}
