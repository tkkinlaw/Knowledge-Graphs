{
 "cells": [
  {
   "cell_type": "markdown",
   "metadata": {},
   "source": [
    "This query searches for all Processing Plants that produce a part only using Metals."
   ]
  },
  {
   "cell_type": "code",
   "execution_count": null,
   "metadata": {},
   "outputs": [],
   "source": [
    "MATCH (a:ProcessingPlant)-[r:ProducesPart]->(b:Part) WHERE b.Material = 'Metals' RETURN a"
   ]
  },
  {
   "cell_type": "markdown",
   "metadata": {},
   "source": [
    "This query is a bit more robust. It returns the processing plants that that produce a part that contains Metals."
   ]
  },
  {
   "cell_type": "code",
   "execution_count": null,
   "metadata": {},
   "outputs": [],
   "source": [
    "MATCH (a:ProcessingPlant) -[r:ProducesPart]->(b:Part) \n",
    "WHERE a.Material CONTAINS \"Metals\" \n",
    "RETURN a"
   ]
  },
  {
   "cell_type": "markdown",
   "metadata": {},
   "source": [
    "Taking this a step further, this query returns all the entities and relationships involved where this condition is true."
   ]
  },
  {
   "cell_type": "code",
   "execution_count": null,
   "metadata": {},
   "outputs": [],
   "source": [
    "MATCH (a:ProcessingPlant)-[r:ProducesPart]->(b:Part) \n",
    "WHERE b.Material CONTAINS 'Metals' \n",
    "RETURN a, r, b"
   ]
  },
  {
   "cell_type": "markdown",
   "metadata": {},
   "source": [
    "Identify which Processing Plants rely on a single distributor for metals."
   ]
  },
  {
   "cell_type": "markdown",
   "metadata": {},
   "source": [
    "MATCH (d:Distributor {Material:'Metals'})-[:SellsTo]->(p:ProcessingPlant)\n",
    "WITH p, COUNT(d) as distCount\n",
    "WHERE distCount = 1\n",
    "RETURN p, distCount"
   ]
  },
  {
   "cell_type": "markdown",
   "metadata": {},
   "source": [
    "This code shows how many distributors a processing plant is connected to"
   ]
  },
  {
   "cell_type": "code",
   "execution_count": null,
   "metadata": {},
   "outputs": [],
   "source": [
    "MATCH (d:Distributor)-[:SellsTo]->(p:ProcessingPlant)\n",
    "WITH p, COUNT(d) as distCount\n",
    "RETURN p, distCount"
   ]
  },
  {
   "cell_type": "markdown",
   "metadata": {},
   "source": [
    "Provide a count of how many distributors a processing plant has a relationship with, and list the materials from those distributors."
   ]
  },
  {
   "cell_type": "code",
   "execution_count": null,
   "metadata": {},
   "outputs": [],
   "source": [
    "MATCH (d:Distributor)-[:SellsTo]->(p:ProcessingPlant)\n",
    "WITH p, COUNT(d) as distCount, COLLECT(d.Material) as matDistList\n",
    "RETURN distCount, matDistList"
   ]
  },
  {
   "cell_type": "markdown",
   "metadata": {},
   "source": [
    "This query examines the whole KG and identifies the plants that are relying on just one distributor for a material"
   ]
  },
  {
   "cell_type": "code",
   "execution_count": null,
   "metadata": {},
   "outputs": [],
   "source": [
    "MATCH (d:Distributor)-[:SellsTo]->(p:ProcessingPlant)\n",
    "WITH p, d, COLLECT(d.Material) as matDistList\n",
    "UNWIND matDistList AS material\n",
    "WITH p, material, COUNT(*) AS count\n",
    "WHERE count = 1\n",
    "RETURN p, material, count"
   ]
  },
  {
   "cell_type": "markdown",
   "metadata": {},
   "source": [
    "Returns the processing plant in the order of the materials\n",
    "\n",
    "MATCH (d:Distributor)-[:SellsTo]->(p:ProcessingPlant)\n",
    "WITH p, COUNT(d) as distCount\n",
    "WITH p ORDER BY distCount DESC\n",
    "WHERE distCount > 1\n",
    "RETURN p"
   ]
  },
  {
   "cell_type": "markdown",
   "metadata": {},
   "source": [
    "This returns the order of the plants along with the distCount"
   ]
  },
  {
   "cell_type": "markdown",
   "metadata": {},
   "source": [
    "MATCH (d:Distributor)-[:SellsTo]->(p:ProcessingPlant)\n",
    "WITH p, COUNT(d) as distCount\n",
    "WHERE distCount > 1\n",
    "RETURN p, distCount\n",
    "ORDER BY distCount DESC"
   ]
  },
  {
   "cell_type": "markdown",
   "metadata": {},
   "source": [
    "This on e is the final version "
   ]
  },
  {
   "cell_type": "markdown",
   "metadata": {},
   "source": [
    "MATCH (d:Distributor)-[:SellsTo]->(p:ProcessingPlant)\n",
    "WITH p, COUNT(d.Material) as distCount\n",
    "ORDER BY distCount DESC\n",
    "WHERE distCount > 1\n",
    "RETURN DISTINCT p, distCount LIMIT 3"
   ]
  },
  {
   "cell_type": "markdown",
   "metadata": {},
   "source": [
    "COLLECT is used to return a list of values. In this case COLLECT is used to provide access to the related distributors and the related relationships to those distributors."
   ]
  },
  {
   "cell_type": "markdown",
   "metadata": {},
   "source": [
    "MATCH (d:Distributor{Material:\"Metals\"})-[r:SellsTo]->(p:ProcessingPlant)\n",
    "WITH p, COUNT(d) as distCount, COLLECT(d) as dists, COLLECT(r) as rels\n",
    "WHERE distCount = 1\n",
    "RETURN p, distCount, dists, rels"
   ]
  },
  {
   "cell_type": "markdown",
   "metadata": {},
   "source": [
    "### Seaching for any value in the node regardless of properties"
   ]
  },
  {
   "cell_type": "code",
   "execution_count": null,
   "metadata": {},
   "outputs": [],
   "source": [
    "MATCH (s:Supplier)\n",
    "WHERE properties(s) CONTAINS 'Metals'\n",
    "RETURN s"
   ]
  },
  {
   "cell_type": "code",
   "execution_count": 1,
   "metadata": {},
   "outputs": [],
   "source": [
    "## This next one introduces searching multiple all nodes for a value\n",
    "MATCH (a)\n",
    "WHERE properties(a) CONTAINS 'Metals'\n",
    "RETURN a"
   ]
  },
  {
   "cell_type": "code",
   "execution_count": null,
   "metadata": {},
   "outputs": [],
   "source": [
    "## This searches for a value occuring in the starting node for a pattern. It's important to note that the relationship is directionless. So, all nodes are evaluated. \n",
    "MATCH path = (a)-[]-()\n",
    "WHERE properties(a) CONTAINS 'Metals'\n",
    "RETURN path"
   ]
  }
 ],
 "metadata": {
  "kernelspec": {
   "display_name": "GraphAnalysis",
   "language": "python",
   "name": "python3"
  },
  "language_info": {
   "codemirror_mode": {
    "name": "ipython",
    "version": 3
   },
   "file_extension": ".py",
   "mimetype": "text/x-python",
   "name": "python",
   "nbconvert_exporter": "python",
   "pygments_lexer": "ipython3",
   "version": "3.9.18"
  }
 },
 "nbformat": 4,
 "nbformat_minor": 2
}
