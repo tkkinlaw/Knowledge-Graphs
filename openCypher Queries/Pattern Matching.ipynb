{
 "cells": [
  {
   "cell_type": "markdown",
   "metadata": {},
   "source": [
    "This query searches for all Processing Plants that produce a part only using Metals."
   ]
  },
  {
   "cell_type": "code",
   "execution_count": null,
   "metadata": {},
   "outputs": [],
   "source": [
    "MATCH (a:ProcessingPlant)-[r:ProducesPart]->(b:Part) WHERE b.Material = 'Metals' RETURN a"
   ]
  },
  {
   "cell_type": "markdown",
   "metadata": {},
   "source": [
    "This query is a bit more robust. It returns the processing plants that that produce a part that contains Metals."
   ]
  },
  {
   "cell_type": "code",
   "execution_count": null,
   "metadata": {},
   "outputs": [],
   "source": [
    "MATCH (a:ProcessingPlant) -[r:ProducesPart]->(b:Part) \n",
    "WHERE a.Material CONTAINS \"Metals\" \n",
    "RETURN a"
   ]
  },
  {
   "cell_type": "markdown",
   "metadata": {},
   "source": [
    "Taking this a step further, this query returns all the entities and relationships involved where this condition is true."
   ]
  },
  {
   "cell_type": "code",
   "execution_count": null,
   "metadata": {},
   "outputs": [],
   "source": [
    "MATCH (a:ProcessingPlant)-[r:ProducesPart]->(b:Part) \n",
    "WHERE b.Material CONTAINS 'Metals' \n",
    "RETURN a, r, b"
   ]
  },
  {
   "cell_type": "markdown",
   "metadata": {},
   "source": []
  }
 ],
 "metadata": {
  "kernelspec": {
   "display_name": "GraphAnalysis",
   "language": "python",
   "name": "python3"
  },
  "language_info": {
   "codemirror_mode": {
    "name": "ipython",
    "version": 3
   },
   "file_extension": ".py",
   "mimetype": "text/x-python",
   "name": "python",
   "nbconvert_exporter": "python",
   "pygments_lexer": "ipython3",
   "version": "3.11.7"
  }
 },
 "nbformat": 4,
 "nbformat_minor": 2
}
