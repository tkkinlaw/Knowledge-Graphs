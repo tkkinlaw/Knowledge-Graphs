{
 "cells": [
  {
   "cell_type": "markdown",
   "metadata": {},
   "source": [
    "# Date/time queries in ArcGIS Knowledge & openCypher"
   ]
  },
  {
   "cell_type": "markdown",
   "metadata": {},
   "source": [
    "### Table of Esri Field Types & the corresponding openCypher function"
   ]
  },
  {
   "cell_type": "markdown",
   "metadata": {},
   "source": [
    "| Esri Field Type              | openCypher function |\n",
    "| --------                     | -------             |\n",
    "| esriFieldTypeDate            | localdatetime()     |\n",
    "| esriFieldTypeDateOnly        | date()              |\n",
    "| esriFieldTypeTimeOnly        | localtime()         |\n",
    "| esriFieldTypeTimestampOffset | datetime()          |"
   ]
  },
  {
   "cell_type": "markdown",
   "metadata": {},
   "source": [
    "This uses the openCypher datetime() function to report the current time."
   ]
  },
  {
   "cell_type": "code",
   "execution_count": null,
   "metadata": {
    "vscode": {
     "languageId": "cypher"
    },
   "outputs": [],
   "source": [
    "RETURN datetime() AS currentDateTime"
   ]
  },
  {
   "cell_type": "markdown",
   "metadata": {},
   "source": [
    "Create a variable holding a date time stamp. This includes an offset in it. "
   ]
  },
  {
   "cell_type": "code",
   "execution_count": null,
   "metadata": {},
   "outputs": [],
   "source": [
    "WITH datetime('2020-06-20T00:57Z') as compDate\n",
    "RETURN compDate"
   ]
  },
  {
   "cell_type": "markdown",
   "metadata": {},
   "source": [
    "QUESTION - is there any reason to not convert a Date data typing in a knowledge graph w/o an offset to a datetime in cypher w/ an offset?\n",
    "For some reason.....converting the values to variables (with WITH-AS) did not work. But this did. "
   ]
  },
  {
   "cell_type": "code",
   "execution_count": null,
   "metadata": {},
   "outputs": [],
   "source": [
    "MATCH (v:Vessel)\n",
    "WHERE datetime(v.end_date) < datetime('2020-06-20T00:57Z')\n",
    "RETURN v"
   ]
  },
  {
   "cell_type": "markdown",
   "metadata": {},
   "source": [
    "This query returns the vessels that have a timestamp \"end_date\" value less than/before the current time."
   ]
  },
  {
   "cell_type": "code",
   "execution_count": null,
   "metadata": {},
   "outputs": [],
   "source": [
    "MATCH (v:Vessel)\n",
    "WHERE v.end_date < datetime()\n",
    "RETURN v"
   ]
  },
  {
   "cell_type": "markdown",
   "metadata": {},
   "source": [
    "To identify vessels that have start and end dates/times within a range:"
   ]
  },
  {
   "cell_type": "code",
   "execution_count": null,
   "metadata": {},
   "outputs": [],
   "source": [
    "MATCH (v:Vessel)\n",
    "WHERE datetime(v.end_date) < datetime('2020-06-20T00:57Z') \n",
    "AND datetime(v.start_date) > datetime('2020-06-14T00:57Z')\n",
    "RETURN v"
   ]
  },
  {
   "cell_type": "code",
   "execution_count": 2,
   "metadata": {},
   "outputs": [
    {
     "name": "stderr",
     "output_type": "stream",
     "text": [
      "UsageError: Line magic function `%cypher` not found.\n"
     ]
    }
   ],
   "source": [
    "%cypher MATCH (a)-[]-(b) RETURN a, b"
   ]
  },
  {
   "cell_type": "code",
   "execution_count": null,
   "metadata": {},
   "outputs": [],
   "source": []
  },
  {
   "cell_type": "markdown",
   "metadata": {},
   "source": []
  }
 ],
 "metadata": {
  "kernelspec": {
   "display_name": "Python 3",
   "language": "python",
   "name": "python3"
  },
  "language_info": {
   "codemirror_mode": {
    "name": "ipython",
    "version": 3
   },
   "file_extension": ".py",
   "mimetype": "text/x-python",
   "name": "python",
   "nbconvert_exporter": "python",
   "pygments_lexer": "ipython3",
   "version": "3.11.7"
  }
 },
 "nbformat": 4,
 "nbformat_minor": 2
}
