{
 "cells": [
  {
   "cell_type": "code",
   "execution_count": null,
   "metadata": {},
   "outputs": [],
   "source": [
    "MATCH (s:StartingPoint)-[]-(r:Runner)-[]-(e:EndingPoint)\n",
    "WITH esri.graph.ST_GeoDistance(s.shape, e.shape) AS dist, s, e\n",
    "WHERE dist < 5\n",
    "RETURN s, e, dist"
   ]
  },
  {
   "cell_type": "code",
   "execution_count": null,
   "metadata": {},
   "outputs": [],
   "source": [
    "MATCH path = (s:StartingPoint)-[]-(r:Runner)-[]-(e:EndingPoint)\n",
    "WITH esri.graph.ST_GeoDistance(s.shape, e.shape) AS dist, path\n",
    "WHERE dist < 5\n",
    "RETURN path"
   ]
  }
 ],
 "metadata": {
  "language_info": {
   "name": "python"
  }
 },
 "nbformat": 4,
 "nbformat_minor": 2
}
