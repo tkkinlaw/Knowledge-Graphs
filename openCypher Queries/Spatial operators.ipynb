{
 "cells": [
  {
   "cell_type": "code",
   "execution_count": null,
   "metadata": {},
   "outputs": [],
   "source": [
    "WITH esri.graph.ST_WKTToGeometry(\"POINT (-80.2475773 36.0243104)\") as point\n",
    "MATCH (d:Distributor)\n",
    "WHERE esri.graph.ST_GeoDistance(d.shape, point) < 100000\n",
    "RETURN d"
   ]
  }
 ],
 "metadata": {
  "language_info": {
   "name": "python"
  }
 },
 "nbformat": 4,
 "nbformat_minor": 2
}
