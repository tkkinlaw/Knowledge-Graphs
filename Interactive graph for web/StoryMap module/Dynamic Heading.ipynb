{
 "cells": [
  {
   "cell_type": "code",
   "execution_count": 14,
   "metadata": {},
   "outputs": [],
   "source": [
    "import arcgis\n",
    "from arcgis.gis import GIS\n",
    "from arcgis.apps.storymap import Image, StoryMap\n",
    "from arcgis.mapping import WebMap"
   ]
  },
  {
   "cell_type": "code",
   "execution_count": 15,
   "metadata": {},
   "outputs": [],
   "source": [
    "gis = GIS(\"https://www.arcgis.com\", \"tkinlaw_EsriEdDelivery\", \"10June2019!\")"
   ]
  },
  {
   "cell_type": "code",
   "execution_count": 16,
   "metadata": {},
   "outputs": [],
   "source": [
    "# Retrieve a story by its ID\n",
    "storymap_id = \"cf1d5f30ef17468f96c11b84ccf161e3\"\n",
    "storymap = StoryMap(storymap_id)"
   ]
  },
  {
   "cell_type": "code",
   "execution_count": 27,
   "metadata": {},
   "outputs": [
    {
     "data": {
      "text/plain": [
       "[{'n-2aaOHH': 'Storycover'},\n",
       " {'n-DEtxcx': 'Navigation'},\n",
       " {'n-SRXM7Z': Embed},\n",
       " {'n-TQ4o3K': 'Credits'}]"
      ]
     },
     "execution_count": 27,
     "metadata": {},
     "output_type": "execute_result"
    }
   ],
   "source": [
    "storymap.nodes"
   ]
  },
  {
   "cell_type": "code",
   "execution_count": 33,
   "metadata": {},
   "outputs": [
    {
     "data": {
      "text/plain": [
       "arcgis.apps.storymap.story_content.Embed"
      ]
     },
     "execution_count": 33,
     "metadata": {},
     "output_type": "execute_result"
    }
   ],
   "source": [
    "storyCover = storymap.get('n-SRXM7Z') # get the Storycover node\n",
    "type(storyCover)#.properties"
   ]
  },
  {
   "cell_type": "code",
   "execution_count": 40,
   "metadata": {},
   "outputs": [
    {
     "data": {
      "text/html": [
       "<div class=\"item_container\" style=\"height: auto; overflow: hidden; border: 1px solid #cfcfcf; border-radius: 2px; background: #f6fafa; line-height: 1.21429em; padding: 10px;\">\n",
       "                    <div class=\"item_left\" style=\"width: 210px; float: left;\">\n",
       "                       <a href='https://EsriEdDelivery.maps.arcgis.com/home/item.html?id=cf1d5f30ef17468f96c11b84ccf161e3' target='_blank'>\n",
       "                        <img src='data:image/png;base64,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' width='200' height='133' class=\"itemThumbnail\">\n",
       "                       </a>\n",
       "                    </div>\n",
       "\n",
       "                    <div class=\"item_right\"     style=\"float: none; width: auto; overflow: hidden;\">\n",
       "                        <a href='https://EsriEdDelivery.maps.arcgis.com/home/item.html?id=cf1d5f30ef17468f96c11b84ccf161e3' target='_blank'><b>My Story Title</b>\n",
       "                        </a>\n",
       "                        <br/>My little summary<img src='https://EsriEdDelivery.maps.arcgis.com/home/js/jsapi/esri/css/images/item_type_icons/layers16.png' style=\"vertical-align:middle;\" width=16 height=16>StoryMap by tkinlaw_EsriEdDelivery\n",
       "                        <br/>Last Modified: February 08, 2024\n",
       "                        <br/>0 comments, 0 views\n",
       "                    </div>\n",
       "                </div>\n",
       "                "
      ],
      "text/plain": [
       "<Item title:\"My Story Title\" type:StoryMap owner:tkinlaw_EsriEdDelivery>"
      ]
     },
     "execution_count": 40,
     "metadata": {},
     "output_type": "execute_result"
    }
   ],
   "source": [
    "storymap.cover(title=\"My Story Title\", type=\"sidebyside\", summary=\"My little summary\", by_line=\"python_dev\")\n",
    "storymap.save()\n"
   ]
  },
  {
   "cell_type": "code",
   "execution_count": 41,
   "metadata": {},
   "outputs": [
    {
     "data": {
      "text/html": [
       "\n",
       "        <iframe\n",
       "            width=\"700\"\n",
       "            height=\"350\"\n",
       "            src=\"https://poloclub.github.io/argo-graph-lite/#5f21be54-d40a-4f4f-b757-c5d68f8e39dc\"\n",
       "            frameborder=\"0\"\n",
       "            allowfullscreen\n",
       "            \n",
       "        ></iframe>\n",
       "        "
      ],
      "text/plain": [
       "<IPython.lib.display.IFrame at 0x28f829f40d0>"
      ]
     },
     "execution_count": 41,
     "metadata": {},
     "output_type": "execute_result"
    }
   ],
   "source": [
    "from IPython.display import IFrame\n",
    "IFrame(\"https://poloclub.github.io/argo-graph-lite/#5f21be54-d40a-4f4f-b757-c5d68f8e39dc\", width=700, height=350)"
   ]
  },
  {
   "cell_type": "code",
   "execution_count": null,
   "metadata": {},
   "outputs": [],
   "source": []
  }
 ],
 "metadata": {
  "kernelspec": {
   "display_name": "Python 3",
   "language": "python",
   "name": "python3"
  },
  "language_info": {
   "codemirror_mode": {
    "name": "ipython",
    "version": 3
   },
   "file_extension": ".py",
   "mimetype": "text/x-python",
   "name": "python",
   "nbconvert_exporter": "python",
   "pygments_lexer": "ipython3",
   "version": "3.9.18"
  }
 },
 "nbformat": 4,
 "nbformat_minor": 2
}
